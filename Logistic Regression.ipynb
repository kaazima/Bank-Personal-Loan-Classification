{
  "nbformat": 4,
  "nbformat_minor": 0,
  "metadata": {
    "colab": {
      "name": "Bank Personal Loan Classification_Logistic Regression.ipynb",
      "provenance": [],
      "authorship_tag": "ABX9TyMJ77l/GqOZkrRaEB6SobcZ",
      "include_colab_link": true
    },
    "kernelspec": {
      "display_name": "Python 3",
      "name": "python3"
    },
    "language_info": {
      "name": "python"
    }
  },
  "cells": [
    {
      "cell_type": "markdown",
      "metadata": {
        "id": "view-in-github",
        "colab_type": "text"
      },
      "source": [
        "<a href=\"https://colab.research.google.com/github/kaazima/Bank-Personal-Loan-Classification/blob/main/Logistic%20Regression.ipynb\" target=\"_parent\"><img src=\"https://colab.research.google.com/assets/colab-badge.svg\" alt=\"Open In Colab\"/></a>"
      ]
    },
    {
      "cell_type": "markdown",
      "metadata": {
        "id": "lhJEf0vjzXpH"
      },
      "source": [
        "# Submitted by:"
      ]
    },
    {
      "cell_type": "markdown",
      "metadata": {
        "id": "d49UdKGzzNrt"
      },
      "source": [
        "Name   : Mirza Kaazima Ifrah\n",
        "\n",
        "Reg No : BL.EN.U4CSE18073 "
      ]
    },
    {
      "cell_type": "markdown",
      "metadata": {
        "id": "vXaUdpWoWxlg"
      },
      "source": [
        "## Bank Personal Loan Classification"
      ]
    },
    {
      "cell_type": "markdown",
      "metadata": {
        "id": "4_eLwqkxWuF7"
      },
      "source": [
        "Universal bank is a small but growing bank. The majority of customers are liability, or deposit only customers, and the bank is interested in converting more of them into asset, or borrowing, customers. The bank has had past success with marketing campaigns to convert the liability customers to personal loan customers. With that success, the bank is interested in being more targeted with its efforts to ensure marketing dollars are spent on those most likely to convert. The bank would like a model to help it predict which new customers are likely to become personal loan customers to aid in this targeting."
      ]
    },
    {
      "cell_type": "markdown",
      "metadata": {
        "id": "nA8qFQqqW95v"
      },
      "source": [
        "## Business Question"
      ]
    },
    {
      "cell_type": "markdown",
      "metadata": {
        "id": "Dz5djKTGXAaA"
      },
      "source": [
        "Can we predict which new customers are most likely to say yes to a personal loan?"
      ]
    },
    {
      "cell_type": "markdown",
      "metadata": {
        "id": "8KjE8M4JK_2p"
      },
      "source": [
        "## Import Necessary packages"
      ]
    },
    {
      "cell_type": "code",
      "metadata": {
        "id": "LkR-bEpKFsPV"
      },
      "source": [
        "import pandas as pd\n",
        "from time import time\n",
        "from sklearn.model_selection import train_test_split, GridSearchCV\n",
        "from sklearn.preprocessing import StandardScaler\n",
        "from sklearn.linear_model import LogisticRegression\n",
        "from sklearn.metrics import accuracy_score, roc_auc_score, plot_roc_curve\n",
        "from sklearn.metrics import classification_report, confusion_matrix, ConfusionMatrixDisplay\n",
        "import seaborn as sns\n",
        "import warnings\n",
        "warnings.simplefilter(action='ignore', category=FutureWarning)"
      ],
      "execution_count": 1,
      "outputs": []
    },
    {
      "cell_type": "markdown",
      "metadata": {
        "id": "9aLOc9LNMNQ6"
      },
      "source": [
        "## Dataset Analysis"
      ]
    },
    {
      "cell_type": "code",
      "metadata": {
        "colab": {
          "base_uri": "https://localhost:8080/",
          "height": 203
        },
        "id": "59Ne-EplMOC4",
        "outputId": "09fe1f37-7220-4054-dcd9-52fe5d00933d"
      },
      "source": [
        "bank_df = pd.read_csv('https://raw.githubusercontent.com/Nuthi-Sriram/Bank_Loan_Modelling/master/UniversalBank.csv')\n",
        "bank_df.head()"
      ],
      "execution_count": 2,
      "outputs": [
        {
          "output_type": "execute_result",
          "data": {
            "text/html": [
              "<div>\n",
              "<style scoped>\n",
              "    .dataframe tbody tr th:only-of-type {\n",
              "        vertical-align: middle;\n",
              "    }\n",
              "\n",
              "    .dataframe tbody tr th {\n",
              "        vertical-align: top;\n",
              "    }\n",
              "\n",
              "    .dataframe thead th {\n",
              "        text-align: right;\n",
              "    }\n",
              "</style>\n",
              "<table border=\"1\" class=\"dataframe\">\n",
              "  <thead>\n",
              "    <tr style=\"text-align: right;\">\n",
              "      <th></th>\n",
              "      <th>ID</th>\n",
              "      <th>Age</th>\n",
              "      <th>Experience</th>\n",
              "      <th>Income</th>\n",
              "      <th>ZIP Code</th>\n",
              "      <th>Family</th>\n",
              "      <th>CCAvg</th>\n",
              "      <th>Education</th>\n",
              "      <th>Mortgage</th>\n",
              "      <th>Personal Loan</th>\n",
              "      <th>Securities Account</th>\n",
              "      <th>CD Account</th>\n",
              "      <th>Online</th>\n",
              "      <th>CreditCard</th>\n",
              "    </tr>\n",
              "  </thead>\n",
              "  <tbody>\n",
              "    <tr>\n",
              "      <th>0</th>\n",
              "      <td>1</td>\n",
              "      <td>25</td>\n",
              "      <td>1</td>\n",
              "      <td>49</td>\n",
              "      <td>91107</td>\n",
              "      <td>4</td>\n",
              "      <td>1.6</td>\n",
              "      <td>1</td>\n",
              "      <td>0</td>\n",
              "      <td>0</td>\n",
              "      <td>1</td>\n",
              "      <td>0</td>\n",
              "      <td>0</td>\n",
              "      <td>0</td>\n",
              "    </tr>\n",
              "    <tr>\n",
              "      <th>1</th>\n",
              "      <td>2</td>\n",
              "      <td>45</td>\n",
              "      <td>19</td>\n",
              "      <td>34</td>\n",
              "      <td>90089</td>\n",
              "      <td>3</td>\n",
              "      <td>1.5</td>\n",
              "      <td>1</td>\n",
              "      <td>0</td>\n",
              "      <td>0</td>\n",
              "      <td>1</td>\n",
              "      <td>0</td>\n",
              "      <td>0</td>\n",
              "      <td>0</td>\n",
              "    </tr>\n",
              "    <tr>\n",
              "      <th>2</th>\n",
              "      <td>3</td>\n",
              "      <td>39</td>\n",
              "      <td>15</td>\n",
              "      <td>11</td>\n",
              "      <td>94720</td>\n",
              "      <td>1</td>\n",
              "      <td>1.0</td>\n",
              "      <td>1</td>\n",
              "      <td>0</td>\n",
              "      <td>0</td>\n",
              "      <td>0</td>\n",
              "      <td>0</td>\n",
              "      <td>0</td>\n",
              "      <td>0</td>\n",
              "    </tr>\n",
              "    <tr>\n",
              "      <th>3</th>\n",
              "      <td>4</td>\n",
              "      <td>35</td>\n",
              "      <td>9</td>\n",
              "      <td>100</td>\n",
              "      <td>94112</td>\n",
              "      <td>1</td>\n",
              "      <td>2.7</td>\n",
              "      <td>2</td>\n",
              "      <td>0</td>\n",
              "      <td>0</td>\n",
              "      <td>0</td>\n",
              "      <td>0</td>\n",
              "      <td>0</td>\n",
              "      <td>0</td>\n",
              "    </tr>\n",
              "    <tr>\n",
              "      <th>4</th>\n",
              "      <td>5</td>\n",
              "      <td>35</td>\n",
              "      <td>8</td>\n",
              "      <td>45</td>\n",
              "      <td>91330</td>\n",
              "      <td>4</td>\n",
              "      <td>1.0</td>\n",
              "      <td>2</td>\n",
              "      <td>0</td>\n",
              "      <td>0</td>\n",
              "      <td>0</td>\n",
              "      <td>0</td>\n",
              "      <td>0</td>\n",
              "      <td>1</td>\n",
              "    </tr>\n",
              "  </tbody>\n",
              "</table>\n",
              "</div>"
            ],
            "text/plain": [
              "   ID  Age  Experience  ...  CD Account  Online  CreditCard\n",
              "0   1   25           1  ...           0       0           0\n",
              "1   2   45          19  ...           0       0           0\n",
              "2   3   39          15  ...           0       0           0\n",
              "3   4   35           9  ...           0       0           0\n",
              "4   5   35           8  ...           0       0           1\n",
              "\n",
              "[5 rows x 14 columns]"
            ]
          },
          "metadata": {
            "tags": []
          },
          "execution_count": 2
        }
      ]
    },
    {
      "cell_type": "code",
      "metadata": {
        "colab": {
          "base_uri": "https://localhost:8080/",
          "height": 203
        },
        "id": "Eu4PAQ52OSUC",
        "outputId": "74e8df80-ac07-4ec8-b762-c48c99f35e8b"
      },
      "source": [
        "# Drop columns that are not significant\n",
        "bank_df = bank_df.drop(['ID', 'ZIP Code'], axis=1)\n",
        "bank_df.head()"
      ],
      "execution_count": 3,
      "outputs": [
        {
          "output_type": "execute_result",
          "data": {
            "text/html": [
              "<div>\n",
              "<style scoped>\n",
              "    .dataframe tbody tr th:only-of-type {\n",
              "        vertical-align: middle;\n",
              "    }\n",
              "\n",
              "    .dataframe tbody tr th {\n",
              "        vertical-align: top;\n",
              "    }\n",
              "\n",
              "    .dataframe thead th {\n",
              "        text-align: right;\n",
              "    }\n",
              "</style>\n",
              "<table border=\"1\" class=\"dataframe\">\n",
              "  <thead>\n",
              "    <tr style=\"text-align: right;\">\n",
              "      <th></th>\n",
              "      <th>Age</th>\n",
              "      <th>Experience</th>\n",
              "      <th>Income</th>\n",
              "      <th>Family</th>\n",
              "      <th>CCAvg</th>\n",
              "      <th>Education</th>\n",
              "      <th>Mortgage</th>\n",
              "      <th>Personal Loan</th>\n",
              "      <th>Securities Account</th>\n",
              "      <th>CD Account</th>\n",
              "      <th>Online</th>\n",
              "      <th>CreditCard</th>\n",
              "    </tr>\n",
              "  </thead>\n",
              "  <tbody>\n",
              "    <tr>\n",
              "      <th>0</th>\n",
              "      <td>25</td>\n",
              "      <td>1</td>\n",
              "      <td>49</td>\n",
              "      <td>4</td>\n",
              "      <td>1.6</td>\n",
              "      <td>1</td>\n",
              "      <td>0</td>\n",
              "      <td>0</td>\n",
              "      <td>1</td>\n",
              "      <td>0</td>\n",
              "      <td>0</td>\n",
              "      <td>0</td>\n",
              "    </tr>\n",
              "    <tr>\n",
              "      <th>1</th>\n",
              "      <td>45</td>\n",
              "      <td>19</td>\n",
              "      <td>34</td>\n",
              "      <td>3</td>\n",
              "      <td>1.5</td>\n",
              "      <td>1</td>\n",
              "      <td>0</td>\n",
              "      <td>0</td>\n",
              "      <td>1</td>\n",
              "      <td>0</td>\n",
              "      <td>0</td>\n",
              "      <td>0</td>\n",
              "    </tr>\n",
              "    <tr>\n",
              "      <th>2</th>\n",
              "      <td>39</td>\n",
              "      <td>15</td>\n",
              "      <td>11</td>\n",
              "      <td>1</td>\n",
              "      <td>1.0</td>\n",
              "      <td>1</td>\n",
              "      <td>0</td>\n",
              "      <td>0</td>\n",
              "      <td>0</td>\n",
              "      <td>0</td>\n",
              "      <td>0</td>\n",
              "      <td>0</td>\n",
              "    </tr>\n",
              "    <tr>\n",
              "      <th>3</th>\n",
              "      <td>35</td>\n",
              "      <td>9</td>\n",
              "      <td>100</td>\n",
              "      <td>1</td>\n",
              "      <td>2.7</td>\n",
              "      <td>2</td>\n",
              "      <td>0</td>\n",
              "      <td>0</td>\n",
              "      <td>0</td>\n",
              "      <td>0</td>\n",
              "      <td>0</td>\n",
              "      <td>0</td>\n",
              "    </tr>\n",
              "    <tr>\n",
              "      <th>4</th>\n",
              "      <td>35</td>\n",
              "      <td>8</td>\n",
              "      <td>45</td>\n",
              "      <td>4</td>\n",
              "      <td>1.0</td>\n",
              "      <td>2</td>\n",
              "      <td>0</td>\n",
              "      <td>0</td>\n",
              "      <td>0</td>\n",
              "      <td>0</td>\n",
              "      <td>0</td>\n",
              "      <td>1</td>\n",
              "    </tr>\n",
              "  </tbody>\n",
              "</table>\n",
              "</div>"
            ],
            "text/plain": [
              "   Age  Experience  Income  ...  CD Account  Online  CreditCard\n",
              "0   25           1      49  ...           0       0           0\n",
              "1   45          19      34  ...           0       0           0\n",
              "2   39          15      11  ...           0       0           0\n",
              "3   35           9     100  ...           0       0           0\n",
              "4   35           8      45  ...           0       0           1\n",
              "\n",
              "[5 rows x 12 columns]"
            ]
          },
          "metadata": {
            "tags": []
          },
          "execution_count": 3
        }
      ]
    },
    {
      "cell_type": "code",
      "metadata": {
        "colab": {
          "base_uri": "https://localhost:8080/"
        },
        "id": "GEDmRdm51ydU",
        "outputId": "9bead10e-9dd5-4e32-cbe6-46dc7c16f349"
      },
      "source": [
        "print('Shape:', bank_df.shape)"
      ],
      "execution_count": 4,
      "outputs": [
        {
          "output_type": "stream",
          "text": [
            "Shape: (5000, 12)\n"
          ],
          "name": "stdout"
        }
      ]
    },
    {
      "cell_type": "code",
      "metadata": {
        "colab": {
          "base_uri": "https://localhost:8080/",
          "height": 142
        },
        "id": "9_sUeL-mdRHk",
        "outputId": "e64591d7-ec04-48b0-9923-3bb955a8e832"
      },
      "source": [
        "bank_df['Personal Loan'].value_counts().rename_axis('Personal Loan').to_frame('No of customers')"
      ],
      "execution_count": 5,
      "outputs": [
        {
          "output_type": "execute_result",
          "data": {
            "text/html": [
              "<div>\n",
              "<style scoped>\n",
              "    .dataframe tbody tr th:only-of-type {\n",
              "        vertical-align: middle;\n",
              "    }\n",
              "\n",
              "    .dataframe tbody tr th {\n",
              "        vertical-align: top;\n",
              "    }\n",
              "\n",
              "    .dataframe thead th {\n",
              "        text-align: right;\n",
              "    }\n",
              "</style>\n",
              "<table border=\"1\" class=\"dataframe\">\n",
              "  <thead>\n",
              "    <tr style=\"text-align: right;\">\n",
              "      <th></th>\n",
              "      <th>No of customers</th>\n",
              "    </tr>\n",
              "    <tr>\n",
              "      <th>Personal Loan</th>\n",
              "      <th></th>\n",
              "    </tr>\n",
              "  </thead>\n",
              "  <tbody>\n",
              "    <tr>\n",
              "      <th>0</th>\n",
              "      <td>4520</td>\n",
              "    </tr>\n",
              "    <tr>\n",
              "      <th>1</th>\n",
              "      <td>480</td>\n",
              "    </tr>\n",
              "  </tbody>\n",
              "</table>\n",
              "</div>"
            ],
            "text/plain": [
              "               No of customers\n",
              "Personal Loan                 \n",
              "0                         4520\n",
              "1                          480"
            ]
          },
          "metadata": {
            "tags": []
          },
          "execution_count": 5
        }
      ]
    },
    {
      "cell_type": "code",
      "metadata": {
        "colab": {
          "base_uri": "https://localhost:8080/",
          "height": 296
        },
        "id": "uH9IJVKcRRBh",
        "outputId": "8d532d87-8f2e-4eb8-a7ba-205172d5aa3d"
      },
      "source": [
        "sns.countplot(bank_df['Personal Loan'])"
      ],
      "execution_count": 6,
      "outputs": [
        {
          "output_type": "execute_result",
          "data": {
            "text/plain": [
              "<matplotlib.axes._subplots.AxesSubplot at 0x7f7d20896310>"
            ]
          },
          "metadata": {
            "tags": []
          },
          "execution_count": 6
        },
        {
          "output_type": "display_data",
          "data": {
            "image/png": "[encoded data removed]",
            "text/plain": [
              "<Figure size 432x288 with 1 Axes>"
            ]
          },
          "metadata": {
            "tags": [],
            "needs_background": "light"
          }
        }
      ]
    },
    {
      "cell_type": "markdown",
      "metadata": {
        "id": "vq1pDYZ1J_aj"
      },
      "source": [
        "\n",
        "\n",
        "*   90.4% of the total customers take personal loan\n",
        "*   9.6% of the total customers do not take personal loan\n",
        "*   So, the dataset is skewed and we need to deal with this imbalanced dataset\n",
        "\n"
      ]
    },
    {
      "cell_type": "markdown",
      "metadata": {
        "id": "JvfGq2yXXDSc"
      },
      "source": [
        "## Split dataset into train & test"
      ]
    },
    {
      "cell_type": "code",
      "metadata": {
        "id": "gsRPP1yBVV2W"
      },
      "source": [
        "feature = bank_df.copy().drop('Personal Loan', axis=1)\n",
        "target = bank_df['Personal Loan']"
      ],
      "execution_count": 7,
      "outputs": []
    },
    {
      "cell_type": "code",
      "metadata": {
        "id": "fp_Skj7uWojq"
      },
      "source": [
        "# Split the data into trainx, testx, trainy, testy with test_size = 0.20 using sklearn\n",
        "x_train, x_test, y_train, y_test = train_test_split(feature, target, stratify=target, random_state=5, test_size=0.20)\n",
        "# Scale data to obtain zero mean and unit variance\n",
        "scaler = StandardScaler() \n",
        "x_train = scaler.fit_transform(x_train)  \n",
        "x_test = scaler.transform(x_test)"
      ],
      "execution_count": 8,
      "outputs": []
    },
    {
      "cell_type": "code",
      "metadata": {
        "colab": {
          "base_uri": "https://localhost:8080/"
        },
        "id": "OFyh8xCQWmfz",
        "outputId": "345a4420-1133-4e24-9d24-6c2631eedc47"
      },
      "source": [
        "# Print the shape of x_train, x_test, y_train, y_test\n",
        "print('Shape of x_train :', x_train.shape)\n",
        "print('Shape of x_test  :', x_test.shape)\n",
        "print('Shape of y_train :', y_train.shape)\n",
        "print('Shape of y_test  :', y_test.shape)"
      ],
      "execution_count": 9,
      "outputs": [
        {
          "output_type": "stream",
          "text": [
            "Shape of x_train : (4000, 11)\n",
            "Shape of x_test  : (1000, 11)\n",
            "Shape of y_train : (4000,)\n",
            "Shape of y_test  : (1000,)\n"
          ],
          "name": "stdout"
        }
      ]
    },
    {
      "cell_type": "markdown",
      "metadata": {
        "id": "6fzCGIghbYXA"
      },
      "source": [
        "## Logistic Regression"
      ]
    },
    {
      "cell_type": "code",
      "metadata": {
        "id": "ofFWplOJbbpJ"
      },
      "source": [
        "# Create Naive Bayes object\n",
        "logistic_regression = LogisticRegression()"
      ],
      "execution_count": 10,
      "outputs": []
    },
    {
      "cell_type": "code",
      "metadata": {
        "colab": {
          "base_uri": "https://localhost:8080/"
        },
        "id": "Ozj8CTHqXc8B",
        "outputId": "471e2a72-7a86-4d40-c71c-762be4595da4"
      },
      "source": [
        "t = time()\n",
        "# Train the model\n",
        "logistic_regression.fit(x_train, y_train)\n",
        "# Time is rounded to 3 decimal in seconds\n",
        "print(\"Training time:\", round(time()-t, 3), \"s\")"
      ],
      "execution_count": 11,
      "outputs": [
        {
          "output_type": "stream",
          "text": [
            "Training time: 0.031 s\n"
          ],
          "name": "stdout"
        }
      ]
    },
    {
      "cell_type": "code",
      "metadata": {
        "id": "uvjr6iakXaUF"
      },
      "source": [
        "# Predict train data set\n",
        "pred_train = logistic_regression.predict(x_train)\n",
        "# Predict test data set\n",
        "pred_test = logistic_regression.predict(x_test)"
      ],
      "execution_count": 12,
      "outputs": []
    },
    {
      "cell_type": "code",
      "metadata": {
        "colab": {
          "base_uri": "https://localhost:8080/"
        },
        "id": "HjQef7PKctJu",
        "outputId": "5a033eca-a536-45a5-e19f-31c8dcf30b84"
      },
      "source": [
        "print(\"Accuracy on train is:\", accuracy_score(y_train, pred_train))\n",
        "print(\"Accuracy on test is:\", accuracy_score(y_test, pred_test))"
      ],
      "execution_count": 13,
      "outputs": [
        {
          "output_type": "stream",
          "text": [
            "Accuracy on train is: 0.95275\n",
            "Accuracy on test is: 0.944\n"
          ],
          "name": "stdout"
        }
      ]
    },
    {
      "cell_type": "code",
      "metadata": {
        "colab": {
          "base_uri": "https://localhost:8080/"
        },
        "id": "Q0InIr4mNQ4T",
        "outputId": "2b6432d3-0beb-414c-b563-445e8a63d8d0"
      },
      "source": [
        "# Checking performance of our model with ROC Score\n",
        "print('ROC Score:', roc_auc_score(y_test, pred_test))"
      ],
      "execution_count": 14,
      "outputs": [
        {
          "output_type": "stream",
          "text": [
            "ROC Score: 0.8014380530973452\n"
          ],
          "name": "stdout"
        }
      ]
    },
    {
      "cell_type": "code",
      "metadata": {
        "colab": {
          "base_uri": "https://localhost:8080/"
        },
        "id": "h37NA1_lUPFv",
        "outputId": "bf73aeee-793a-49ab-d748-7a78884585d8"
      },
      "source": [
        "# list the default parameters of the model\n",
        "logistic_regression.get_params()"
      ],
      "execution_count": 15,
      "outputs": [
        {
          "output_type": "execute_result",
          "data": {
            "text/plain": [
              "{'C': 1.0,\n",
              " 'class_weight': None,\n",
              " 'dual': False,\n",
              " 'fit_intercept': True,\n",
              " 'intercept_scaling': 1,\n",
              " 'l1_ratio': None,\n",
              " 'max_iter': 100,\n",
              " 'multi_class': 'auto',\n",
              " 'n_jobs': None,\n",
              " 'penalty': 'l2',\n",
              " 'random_state': None,\n",
              " 'solver': 'lbfgs',\n",
              " 'tol': 0.0001,\n",
              " 'verbose': 0,\n",
              " 'warm_start': False}"
            ]
          },
          "metadata": {
            "tags": []
          },
          "execution_count": 15
        }
      ]
    },
    {
      "cell_type": "markdown",
      "metadata": {
        "id": "eGjWGN-pUe0S"
      },
      "source": [
        "## Hyper Parameter Tuning"
      ]
    },
    {
      "cell_type": "code",
      "metadata": {
        "id": "cnmxnxhdT9O5"
      },
      "source": [
        "# List hyper parameters that we wish to tune\n",
        "params = {'solver': ['newton-cg', 'lbfgs', 'liblinear'], 'penalty': ['l1', 'l2'], 'C': [100, 10, 1.0, 0.1, 0.01]}\n",
        "# Use grid search\n",
        "grid = GridSearchCV(logistic_regression, verbose=1, param_grid=params, scoring='accuracy', cv=10, n_jobs=-1)"
      ],
      "execution_count": 16,
      "outputs": []
    },
    {
      "cell_type": "code",
      "metadata": {
        "colab": {
          "base_uri": "https://localhost:8080/"
        },
        "id": "bdw7SUg7UPR8",
        "outputId": "d60e9d6d-bf19-4f4f-81fe-fc78801cc1d1"
      },
      "source": [
        "# Train the model\n",
        "grid.fit(x_train, y_train)\n",
        "print()"
      ],
      "execution_count": 17,
      "outputs": [
        {
          "output_type": "stream",
          "text": [
            "Fitting 10 folds for each of 30 candidates, totalling 300 fits\n"
          ],
          "name": "stdout"
        },
        {
          "output_type": "stream",
          "text": [
            "[Parallel(n_jobs=-1)]: Using backend LokyBackend with 2 concurrent workers.\n",
            "[Parallel(n_jobs=-1)]: Done 168 tasks      | elapsed:    4.0s\n"
          ],
          "name": "stderr"
        },
        {
          "output_type": "stream",
          "text": [
            "\n"
          ],
          "name": "stdout"
        },
        {
          "output_type": "stream",
          "text": [
            "[Parallel(n_jobs=-1)]: Done 300 out of 300 | elapsed:    5.0s finished\n"
          ],
          "name": "stderr"
        }
      ]
    },
    {
      "cell_type": "code",
      "metadata": {
        "colab": {
          "base_uri": "https://localhost:8080/"
        },
        "id": "HiBX3MxBRa0l",
        "outputId": "336a4c30-6e56-4341-9059-d72d238c2d64"
      },
      "source": [
        "print('Best Score:', grid.best_score_)\n",
        "print('Best Parameters:', grid.best_params_)"
      ],
      "execution_count": 18,
      "outputs": [
        {
          "output_type": "stream",
          "text": [
            "Best Score: 0.9535\n",
            "Best Parameters: {'C': 0.1, 'penalty': 'l2', 'solver': 'liblinear'}\n"
          ],
          "name": "stdout"
        }
      ]
    },
    {
      "cell_type": "code",
      "metadata": {
        "colab": {
          "base_uri": "https://localhost:8080/"
        },
        "id": "3aoxnxxuU_4B",
        "outputId": "fe2ecb03-592f-41c3-97df-333efd856622"
      },
      "source": [
        "best_logistic_regression = grid.best_estimator_\n",
        "# print best hyper parameters\n",
        "print(best_logistic_regression)"
      ],
      "execution_count": 19,
      "outputs": [
        {
          "output_type": "stream",
          "text": [
            "LogisticRegression(C=0.1, class_weight=None, dual=False, fit_intercept=True,\n",
            "                   intercept_scaling=1, l1_ratio=None, max_iter=100,\n",
            "                   multi_class='auto', n_jobs=None, penalty='l2',\n",
            "                   random_state=None, solver='liblinear', tol=0.0001, verbose=0,\n",
            "                   warm_start=False)\n"
          ],
          "name": "stdout"
        }
      ]
    },
    {
      "cell_type": "code",
      "metadata": {
        "colab": {
          "base_uri": "https://localhost:8080/"
        },
        "id": "KkdQOj3AZAS8",
        "outputId": "c57a690a-af36-4874-b25d-18b1dd728f1f"
      },
      "source": [
        "t = time()\n",
        "# Train the model\n",
        "best_logistic_regression.fit(x_train, y_train)\n",
        "# Time is rounded to 3 decimal in seconds\n",
        "print(\"Training time:\", round(time()-t, 3), \"s\")"
      ],
      "execution_count": 20,
      "outputs": [
        {
          "output_type": "stream",
          "text": [
            "Training time: 0.011 s\n"
          ],
          "name": "stdout"
        }
      ]
    },
    {
      "cell_type": "code",
      "metadata": {
        "id": "uMh4onAIUZfI"
      },
      "source": [
        "# Predict train data set\n",
        "pred_train = best_logistic_regression.predict(x_train)\n",
        "# Predict test data set\n",
        "pred_test = best_logistic_regression.predict(x_test)"
      ],
      "execution_count": 21,
      "outputs": []
    },
    {
      "cell_type": "code",
      "metadata": {
        "colab": {
          "base_uri": "https://localhost:8080/"
        },
        "id": "-Qy3HpCsUle4",
        "outputId": "90ec1367-3d56-4daa-b95d-16271921cef4"
      },
      "source": [
        "print(\"Accuracy on train is:\", accuracy_score(y_train, pred_train))\n",
        "print(\"Accuracy on test is:\", accuracy_score(y_test, pred_test))"
      ],
      "execution_count": 22,
      "outputs": [
        {
          "output_type": "stream",
          "text": [
            "Accuracy on train is: 0.954\n",
            "Accuracy on test is: 0.943\n"
          ],
          "name": "stdout"
        }
      ]
    },
    {
      "cell_type": "markdown",
      "metadata": {
        "id": "_2SACbUIOJLl"
      },
      "source": [
        "#### Confusion matrix for Train data"
      ]
    },
    {
      "cell_type": "code",
      "metadata": {
        "colab": {
          "base_uri": "https://localhost:8080/"
        },
        "id": "0OvussihNblW",
        "outputId": "d4501153-4515-4bc4-af88-3556565fa4bc"
      },
      "source": [
        "# Print confusion matrix for train data\n",
        "print(confusion_matrix(y_train, pred_train))"
      ],
      "execution_count": 23,
      "outputs": [
        {
          "output_type": "stream",
          "text": [
            "[[3582   34]\n",
            " [ 150  234]]\n"
          ],
          "name": "stdout"
        }
      ]
    },
    {
      "cell_type": "code",
      "metadata": {
        "colab": {
          "base_uri": "https://localhost:8080/",
          "height": 296
        },
        "id": "xFeE0sHdHo98",
        "outputId": "a352f9cf-0841-4a07-f1e1-9e182266b195"
      },
      "source": [
        "# Plot confusion matrix for train data\n",
        "ConfusionMatrixDisplay(confusion_matrix=confusion_matrix(y_train, pred_train), display_labels=grid.classes_).plot()"
      ],
      "execution_count": 24,
      "outputs": [
        {
          "output_type": "execute_result",
          "data": {
            "text/plain": [
              "<sklearn.metrics._plot.confusion_matrix.ConfusionMatrixDisplay at 0x7f7d17718510>"
            ]
          },
          "metadata": {
            "tags": []
          },
          "execution_count": 24
        },
        {
          "output_type": "display_data",
          "data": {
            "image/png": "[encoded data removed]",
            "text/plain": [
              "<Figure size 432x288 with 2 Axes>"
            ]
          },
          "metadata": {
            "tags": [],
            "needs_background": "light"
          }
        }
      ]
    },
    {
      "cell_type": "markdown",
      "metadata": {
        "id": "5Sh2SqG2ONLb"
      },
      "source": [
        "#### Confusion matrix for Test data"
      ]
    },
    {
      "cell_type": "code",
      "metadata": {
        "colab": {
          "base_uri": "https://localhost:8080/"
        },
        "id": "MPzLsvsCGvY5",
        "outputId": "ce903888-79ba-446f-d357-bf05f45873f1"
      },
      "source": [
        "# Print confusion matrix for test data\n",
        "print(confusion_matrix(y_test, pred_test))"
      ],
      "execution_count": 25,
      "outputs": [
        {
          "output_type": "stream",
          "text": [
            "[[884  20]\n",
            " [ 37  59]]\n"
          ],
          "name": "stdout"
        }
      ]
    },
    {
      "cell_type": "code",
      "metadata": {
        "colab": {
          "base_uri": "https://localhost:8080/",
          "height": 296
        },
        "id": "9h_vd3gWNrls",
        "outputId": "0fbd5b91-0643-48d0-bf77-36d5e4c0fa8b"
      },
      "source": [
        "# Plot confusion matrix for test data\n",
        "ConfusionMatrixDisplay(confusion_matrix=confusion_matrix(y_test, pred_test), display_labels=grid.classes_).plot()"
      ],
      "execution_count": 26,
      "outputs": [
        {
          "output_type": "execute_result",
          "data": {
            "text/plain": [
              "<sklearn.metrics._plot.confusion_matrix.ConfusionMatrixDisplay at 0x7f7d16e58e50>"
            ]
          },
          "metadata": {
            "tags": []
          },
          "execution_count": 26
        },
        {
          "output_type": "display_data",
          "data": {
            "image/png": "[encoded data removed]",
            "text/plain": [
              "<Figure size 432x288 with 2 Axes>"
            ]
          },
          "metadata": {
            "tags": [],
            "needs_background": "light"
          }
        }
      ]
    },
    {
      "cell_type": "markdown",
      "metadata": {
        "id": "yWgitzU0ORmr"
      },
      "source": [
        "#### Performance of our model"
      ]
    },
    {
      "cell_type": "code",
      "metadata": {
        "colab": {
          "base_uri": "https://localhost:8080/"
        },
        "id": "JM77ZkQmBglX",
        "outputId": "fa610aea-d4f2-4f96-8846-28c0202b909b"
      },
      "source": [
        "# Checking performance of our model with classification report\n",
        "print(classification_report(y_test, pred_test))"
      ],
      "execution_count": 27,
      "outputs": [
        {
          "output_type": "stream",
          "text": [
            "              precision    recall  f1-score   support\n",
            "\n",
            "           0       0.96      0.98      0.97       904\n",
            "           1       0.75      0.61      0.67        96\n",
            "\n",
            "    accuracy                           0.94      1000\n",
            "   macro avg       0.85      0.80      0.82      1000\n",
            "weighted avg       0.94      0.94      0.94      1000\n",
            "\n"
          ],
          "name": "stdout"
        }
      ]
    },
    {
      "cell_type": "code",
      "metadata": {
        "colab": {
          "base_uri": "https://localhost:8080/"
        },
        "id": "lqBQy4J3R37p",
        "outputId": "47d6c28b-8048-45aa-ac4d-3e337d26d247"
      },
      "source": [
        "# Checking performance of our model with ROC Score\n",
        "print('ROC Score:', roc_auc_score(y_test, pred_test))"
      ],
      "execution_count": 28,
      "outputs": [
        {
          "output_type": "stream",
          "text": [
            "ROC Score: 0.7962297197640118\n"
          ],
          "name": "stdout"
        }
      ]
    },
    {
      "cell_type": "code",
      "metadata": {
        "colab": {
          "base_uri": "https://localhost:8080/",
          "height": 296
        },
        "id": "D8wL-n6Zbdsz",
        "outputId": "3b142145-dd5d-4338-b880-65eae9bd0596"
      },
      "source": [
        "# Plot ROC Curve\n",
        "plot_roc_curve(best_logistic_regression, x_test, y_test)"
      ],
      "execution_count": 29,
      "outputs": [
        {
          "output_type": "execute_result",
          "data": {
            "text/plain": [
              "<sklearn.metrics._plot.roc_curve.RocCurveDisplay at 0x7f7d176bbc10>"
            ]
          },
          "metadata": {
            "tags": []
          },
          "execution_count": 29
        },
        {
          "output_type": "display_data",
          "data": {
            "image/png": "[encoded data removed]",
            "text/plain": [
              "<Figure size 432x288 with 1 Axes>"
            ]
          },
          "metadata": {
            "tags": [],
            "needs_background": "light"
          }
        }
      ]
    },
    {
      "cell_type": "markdown",
      "metadata": {
        "id": "R9_z9BNAJo-J"
      },
      "source": [
        "## Overall Analysis"
      ]
    },
    {
      "cell_type": "markdown",
      "metadata": {
        "id": "kC96zaewJtNL"
      },
      "source": [
        "\n",
        "\n",
        "*   This is an imbalanced dataset. So, I have used stratify parameter to preserve the proportion of target as in original dataset, in the train and test datasets as well. Also, I have preprocessed data using StandardScaler to obtain 0 mean and unit variance. Doing this improved the accuracy and ROC score of the model.\n",
        "\n",
        "*   As per the results, accuracy is around 0.94. But, it can be observed that our dataset is skewed. So, instead of considering accuracy as our metric, we need to consider ROC_AUC score for highly skewed datasets.\n",
        "\n",
        "*   Default parameters of the model gave an ROC score of 0.801, whereas after hyperparamter tuning, ROC score fell to 0.796. Though the score after hyperparameter tuning is little less compared to the default values, training time after hyperparamter tuning is 0.015 seconds, which is better than that of default parameters, which is 0.031 seconds.\n",
        "\n",
        "*   I have improvised my KNN too by preprocessing data and it gave really better results than it was before. [Here](https://colab.research.google.com/drive/1Byxc-GW156djCsxyJj5EYbwA_iks0UyH?usp=sharing) is the link for my KNN model. Finally, I found that KNN is giving better accuracy and ROC score for the dataset, when compared to Logistic regression.\n",
        "\n",
        "*   We can further upsample or downsample our dataset, in order to deal with this imbalanced dataset, to get much better results.\n",
        "\n"
      ]
    }
  ]
}