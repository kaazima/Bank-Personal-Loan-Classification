{
  "nbformat": 4,
  "nbformat_minor": 0,
  "metadata": {
    "colab": {
      "name": "Bank Personal Loan Classification_Naive Bayes.ipynb",
      "provenance": [],
      "authorship_tag": "ABX9TyO/JkH5xeTBK6svuxwtqbKJ",
      "include_colab_link": true
    },
    "kernelspec": {
      "display_name": "Python 3",
      "name": "python3"
    },
    "language_info": {
      "name": "python"
    }
  },
  "cells": [
    {
      "cell_type": "markdown",
      "metadata": {
        "id": "view-in-github",
        "colab_type": "text"
      },
      "source": [
        "<a href=\"https://colab.research.google.com/github/kaazima/Bank-Personal-Loan-Classification/blob/main/Naive%20Bayes.ipynb\" target=\"_parent\"><img src=\"https://colab.research.google.com/assets/colab-badge.svg\" alt=\"Open In Colab\"/></a>"
      ]
    },
    {
      "cell_type": "markdown",
      "metadata": {
        "id": "lhJEf0vjzXpH"
      },
      "source": [
        "# Submitted by:"
      ]
    },
    {
      "cell_type": "markdown",
      "metadata": {
        "id": "d49UdKGzzNrt"
      },
      "source": [
        "Name   : Mirza Kaazima Ifrah\n",
        "\n",
        "Reg No : BL.EN.U4CSE18073 "
      ]
    },
    {
      "cell_type": "markdown",
      "metadata": {
        "id": "vXaUdpWoWxlg"
      },
      "source": [
        "## Bank Personal Loan Classification"
      ]
    },
    {
      "cell_type": "markdown",
      "metadata": {
        "id": "4_eLwqkxWuF7"
      },
      "source": [
        "Universal bank is a small but growing bank. The majority of customers are liability, or deposit only customers, and the bank is interested in converting more of them into asset, or borrowing, customers. The bank has had past success with marketing campaigns to convert the liability customers to personal loan customers. With that success, the bank is interested in being more targeted with its efforts to ensure marketing dollars are spent on those most likely to convert. The bank would like a model to help it predict which new customers are likely to become personal loan customers to aid in this targeting."
      ]
    },
    {
      "cell_type": "markdown",
      "metadata": {
        "id": "nA8qFQqqW95v"
      },
      "source": [
        "## Business Question"
      ]
    },
    {
      "cell_type": "markdown",
      "metadata": {
        "id": "Dz5djKTGXAaA"
      },
      "source": [
        "Can we predict which new customers are most likely to say yes to a personal loan?"
      ]
    },
    {
      "cell_type": "markdown",
      "metadata": {
        "id": "8KjE8M4JK_2p"
      },
      "source": [
        "## Import Necessary packages"
      ]
    },
    {
      "cell_type": "code",
      "metadata": {
        "id": "LkR-bEpKFsPV"
      },
      "source": [
        "import pandas as pd\n",
        "import numpy as np\n",
        "from time import time\n",
        "from sklearn.model_selection import train_test_split, GridSearchCV\n",
        "from sklearn.naive_bayes import GaussianNB\n",
        "from sklearn.metrics import accuracy_score, roc_auc_score, plot_roc_curve\n",
        "from sklearn.metrics import classification_report, confusion_matrix, ConfusionMatrixDisplay\n",
        "import seaborn as sns\n",
        "import warnings\n",
        "warnings.simplefilter(action='ignore', category=FutureWarning)"
      ],
      "execution_count": 1,
      "outputs": []
    },
    {
      "cell_type": "markdown",
      "metadata": {
        "id": "9aLOc9LNMNQ6"
      },
      "source": [
        "## Dataset Analysis"
      ]
    },
    {
      "cell_type": "code",
      "metadata": {
        "colab": {
          "base_uri": "https://localhost:8080/",
          "height": 203
        },
        "id": "59Ne-EplMOC4",
        "outputId": "88cbf484-adcd-4198-8ebc-06b3b1345d33"
      },
      "source": [
        "bank_df = pd.read_csv('https://raw.githubusercontent.com/Nuthi-Sriram/Bank_Loan_Modelling/master/UniversalBank.csv')\n",
        "bank_df.head()"
      ],
      "execution_count": 2,
      "outputs": [
        {
          "output_type": "execute_result",
          "data": {
            "text/html": [
              "<div>\n",
              "<style scoped>\n",
              "    .dataframe tbody tr th:only-of-type {\n",
              "        vertical-align: middle;\n",
              "    }\n",
              "\n",
              "    .dataframe tbody tr th {\n",
              "        vertical-align: top;\n",
              "    }\n",
              "\n",
              "    .dataframe thead th {\n",
              "        text-align: right;\n",
              "    }\n",
              "</style>\n",
              "<table border=\"1\" class=\"dataframe\">\n",
              "  <thead>\n",
              "    <tr style=\"text-align: right;\">\n",
              "      <th></th>\n",
              "      <th>ID</th>\n",
              "      <th>Age</th>\n",
              "      <th>Experience</th>\n",
              "      <th>Income</th>\n",
              "      <th>ZIP Code</th>\n",
              "      <th>Family</th>\n",
              "      <th>CCAvg</th>\n",
              "      <th>Education</th>\n",
              "      <th>Mortgage</th>\n",
              "      <th>Personal Loan</th>\n",
              "      <th>Securities Account</th>\n",
              "      <th>CD Account</th>\n",
              "      <th>Online</th>\n",
              "      <th>CreditCard</th>\n",
              "    </tr>\n",
              "  </thead>\n",
              "  <tbody>\n",
              "    <tr>\n",
              "      <th>0</th>\n",
              "      <td>1</td>\n",
              "      <td>25</td>\n",
              "      <td>1</td>\n",
              "      <td>49</td>\n",
              "      <td>91107</td>\n",
              "      <td>4</td>\n",
              "      <td>1.6</td>\n",
              "      <td>1</td>\n",
              "      <td>0</td>\n",
              "      <td>0</td>\n",
              "      <td>1</td>\n",
              "      <td>0</td>\n",
              "      <td>0</td>\n",
              "      <td>0</td>\n",
              "    </tr>\n",
              "    <tr>\n",
              "      <th>1</th>\n",
              "      <td>2</td>\n",
              "      <td>45</td>\n",
              "      <td>19</td>\n",
              "      <td>34</td>\n",
              "      <td>90089</td>\n",
              "      <td>3</td>\n",
              "      <td>1.5</td>\n",
              "      <td>1</td>\n",
              "      <td>0</td>\n",
              "      <td>0</td>\n",
              "      <td>1</td>\n",
              "      <td>0</td>\n",
              "      <td>0</td>\n",
              "      <td>0</td>\n",
              "    </tr>\n",
              "    <tr>\n",
              "      <th>2</th>\n",
              "      <td>3</td>\n",
              "      <td>39</td>\n",
              "      <td>15</td>\n",
              "      <td>11</td>\n",
              "      <td>94720</td>\n",
              "      <td>1</td>\n",
              "      <td>1.0</td>\n",
              "      <td>1</td>\n",
              "      <td>0</td>\n",
              "      <td>0</td>\n",
              "      <td>0</td>\n",
              "      <td>0</td>\n",
              "      <td>0</td>\n",
              "      <td>0</td>\n",
              "    </tr>\n",
              "    <tr>\n",
              "      <th>3</th>\n",
              "      <td>4</td>\n",
              "      <td>35</td>\n",
              "      <td>9</td>\n",
              "      <td>100</td>\n",
              "      <td>94112</td>\n",
              "      <td>1</td>\n",
              "      <td>2.7</td>\n",
              "      <td>2</td>\n",
              "      <td>0</td>\n",
              "      <td>0</td>\n",
              "      <td>0</td>\n",
              "      <td>0</td>\n",
              "      <td>0</td>\n",
              "      <td>0</td>\n",
              "    </tr>\n",
              "    <tr>\n",
              "      <th>4</th>\n",
              "      <td>5</td>\n",
              "      <td>35</td>\n",
              "      <td>8</td>\n",
              "      <td>45</td>\n",
              "      <td>91330</td>\n",
              "      <td>4</td>\n",
              "      <td>1.0</td>\n",
              "      <td>2</td>\n",
              "      <td>0</td>\n",
              "      <td>0</td>\n",
              "      <td>0</td>\n",
              "      <td>0</td>\n",
              "      <td>0</td>\n",
              "      <td>1</td>\n",
              "    </tr>\n",
              "  </tbody>\n",
              "</table>\n",
              "</div>"
            ],
            "text/plain": [
              "   ID  Age  Experience  ...  CD Account  Online  CreditCard\n",
              "0   1   25           1  ...           0       0           0\n",
              "1   2   45          19  ...           0       0           0\n",
              "2   3   39          15  ...           0       0           0\n",
              "3   4   35           9  ...           0       0           0\n",
              "4   5   35           8  ...           0       0           1\n",
              "\n",
              "[5 rows x 14 columns]"
            ]
          },
          "metadata": {
            "tags": []
          },
          "execution_count": 2
        }
      ]
    },
    {
      "cell_type": "code",
      "metadata": {
        "colab": {
          "base_uri": "https://localhost:8080/",
          "height": 203
        },
        "id": "Eu4PAQ52OSUC",
        "outputId": "ae3da81f-d943-48ce-d599-510b752ebe60"
      },
      "source": [
        "# Drop columns that are not significant\n",
        "bank_df = bank_df.drop(['ID', 'ZIP Code'], axis=1)\n",
        "bank_df.head()"
      ],
      "execution_count": 3,
      "outputs": [
        {
          "output_type": "execute_result",
          "data": {
            "text/html": [
              "<div>\n",
              "<style scoped>\n",
              "    .dataframe tbody tr th:only-of-type {\n",
              "        vertical-align: middle;\n",
              "    }\n",
              "\n",
              "    .dataframe tbody tr th {\n",
              "        vertical-align: top;\n",
              "    }\n",
              "\n",
              "    .dataframe thead th {\n",
              "        text-align: right;\n",
              "    }\n",
              "</style>\n",
              "<table border=\"1\" class=\"dataframe\">\n",
              "  <thead>\n",
              "    <tr style=\"text-align: right;\">\n",
              "      <th></th>\n",
              "      <th>Age</th>\n",
              "      <th>Experience</th>\n",
              "      <th>Income</th>\n",
              "      <th>Family</th>\n",
              "      <th>CCAvg</th>\n",
              "      <th>Education</th>\n",
              "      <th>Mortgage</th>\n",
              "      <th>Personal Loan</th>\n",
              "      <th>Securities Account</th>\n",
              "      <th>CD Account</th>\n",
              "      <th>Online</th>\n",
              "      <th>CreditCard</th>\n",
              "    </tr>\n",
              "  </thead>\n",
              "  <tbody>\n",
              "    <tr>\n",
              "      <th>0</th>\n",
              "      <td>25</td>\n",
              "      <td>1</td>\n",
              "      <td>49</td>\n",
              "      <td>4</td>\n",
              "      <td>1.6</td>\n",
              "      <td>1</td>\n",
              "      <td>0</td>\n",
              "      <td>0</td>\n",
              "      <td>1</td>\n",
              "      <td>0</td>\n",
              "      <td>0</td>\n",
              "      <td>0</td>\n",
              "    </tr>\n",
              "    <tr>\n",
              "      <th>1</th>\n",
              "      <td>45</td>\n",
              "      <td>19</td>\n",
              "      <td>34</td>\n",
              "      <td>3</td>\n",
              "      <td>1.5</td>\n",
              "      <td>1</td>\n",
              "      <td>0</td>\n",
              "      <td>0</td>\n",
              "      <td>1</td>\n",
              "      <td>0</td>\n",
              "      <td>0</td>\n",
              "      <td>0</td>\n",
              "    </tr>\n",
              "    <tr>\n",
              "      <th>2</th>\n",
              "      <td>39</td>\n",
              "      <td>15</td>\n",
              "      <td>11</td>\n",
              "      <td>1</td>\n",
              "      <td>1.0</td>\n",
              "      <td>1</td>\n",
              "      <td>0</td>\n",
              "      <td>0</td>\n",
              "      <td>0</td>\n",
              "      <td>0</td>\n",
              "      <td>0</td>\n",
              "      <td>0</td>\n",
              "    </tr>\n",
              "    <tr>\n",
              "      <th>3</th>\n",
              "      <td>35</td>\n",
              "      <td>9</td>\n",
              "      <td>100</td>\n",
              "      <td>1</td>\n",
              "      <td>2.7</td>\n",
              "      <td>2</td>\n",
              "      <td>0</td>\n",
              "      <td>0</td>\n",
              "      <td>0</td>\n",
              "      <td>0</td>\n",
              "      <td>0</td>\n",
              "      <td>0</td>\n",
              "    </tr>\n",
              "    <tr>\n",
              "      <th>4</th>\n",
              "      <td>35</td>\n",
              "      <td>8</td>\n",
              "      <td>45</td>\n",
              "      <td>4</td>\n",
              "      <td>1.0</td>\n",
              "      <td>2</td>\n",
              "      <td>0</td>\n",
              "      <td>0</td>\n",
              "      <td>0</td>\n",
              "      <td>0</td>\n",
              "      <td>0</td>\n",
              "      <td>1</td>\n",
              "    </tr>\n",
              "  </tbody>\n",
              "</table>\n",
              "</div>"
            ],
            "text/plain": [
              "   Age  Experience  Income  ...  CD Account  Online  CreditCard\n",
              "0   25           1      49  ...           0       0           0\n",
              "1   45          19      34  ...           0       0           0\n",
              "2   39          15      11  ...           0       0           0\n",
              "3   35           9     100  ...           0       0           0\n",
              "4   35           8      45  ...           0       0           1\n",
              "\n",
              "[5 rows x 12 columns]"
            ]
          },
          "metadata": {
            "tags": []
          },
          "execution_count": 3
        }
      ]
    },
    {
      "cell_type": "code",
      "metadata": {
        "colab": {
          "base_uri": "https://localhost:8080/"
        },
        "id": "GEDmRdm51ydU",
        "outputId": "305cd3b7-00a3-4f1f-bd48-ebb205b62139"
      },
      "source": [
        "print('Shape:', bank_df.shape)"
      ],
      "execution_count": 4,
      "outputs": [
        {
          "output_type": "stream",
          "text": [
            "Shape: (5000, 12)\n"
          ],
          "name": "stdout"
        }
      ]
    },
    {
      "cell_type": "code",
      "metadata": {
        "colab": {
          "base_uri": "https://localhost:8080/",
          "height": 142
        },
        "id": "9_sUeL-mdRHk",
        "outputId": "812bcd8b-2144-41a9-f743-dbc8015df6f0"
      },
      "source": [
        "bank_df['Personal Loan'].value_counts().rename_axis('Personal Loan').to_frame('No of customers')"
      ],
      "execution_count": 5,
      "outputs": [
        {
          "output_type": "execute_result",
          "data": {
            "text/html": [
              "<div>\n",
              "<style scoped>\n",
              "    .dataframe tbody tr th:only-of-type {\n",
              "        vertical-align: middle;\n",
              "    }\n",
              "\n",
              "    .dataframe tbody tr th {\n",
              "        vertical-align: top;\n",
              "    }\n",
              "\n",
              "    .dataframe thead th {\n",
              "        text-align: right;\n",
              "    }\n",
              "</style>\n",
              "<table border=\"1\" class=\"dataframe\">\n",
              "  <thead>\n",
              "    <tr style=\"text-align: right;\">\n",
              "      <th></th>\n",
              "      <th>No of customers</th>\n",
              "    </tr>\n",
              "    <tr>\n",
              "      <th>Personal Loan</th>\n",
              "      <th></th>\n",
              "    </tr>\n",
              "  </thead>\n",
              "  <tbody>\n",
              "    <tr>\n",
              "      <th>0</th>\n",
              "      <td>4520</td>\n",
              "    </tr>\n",
              "    <tr>\n",
              "      <th>1</th>\n",
              "      <td>480</td>\n",
              "    </tr>\n",
              "  </tbody>\n",
              "</table>\n",
              "</div>"
            ],
            "text/plain": [
              "               No of customers\n",
              "Personal Loan                 \n",
              "0                         4520\n",
              "1                          480"
            ]
          },
          "metadata": {
            "tags": []
          },
          "execution_count": 5
        }
      ]
    },
    {
      "cell_type": "code",
      "metadata": {
        "colab": {
          "base_uri": "https://localhost:8080/",
          "height": 296
        },
        "id": "uH9IJVKcRRBh",
        "outputId": "02596a0b-ffbb-4248-bec8-434917993dc3"
      },
      "source": [
        "sns.countplot(bank_df['Personal Loan'])"
      ],
      "execution_count": 6,
      "outputs": [
        {
          "output_type": "execute_result",
          "data": {
            "text/plain": [
              "<matplotlib.axes._subplots.AxesSubplot at 0x7f6b4af25310>"
            ]
          },
          "metadata": {
            "tags": []
          },
          "execution_count": 6
        },
        {
          "output_type": "display_data",
          "data": {
            "image/png": "[encoded data removed]",
            "text/plain": [
              "<Figure size 432x288 with 1 Axes>"
            ]
          },
          "metadata": {
            "tags": [],
            "needs_background": "light"
          }
        }
      ]
    },
    {
      "cell_type": "markdown",
      "metadata": {
        "id": "vq1pDYZ1J_aj"
      },
      "source": [
        "\n",
        "\n",
        "*   90.4% of the total customers take personal loan\n",
        "*   9.6% of the total customers do not take personal loan\n",
        "*   So, the dataset is skewed and we need to deal with this imbalanced dataset\n",
        "\n"
      ]
    },
    {
      "cell_type": "markdown",
      "metadata": {
        "id": "JvfGq2yXXDSc"
      },
      "source": [
        "## Split dataset into train & test"
      ]
    },
    {
      "cell_type": "code",
      "metadata": {
        "id": "gsRPP1yBVV2W"
      },
      "source": [
        "feature = bank_df.copy().drop('Personal Loan', axis=1)\n",
        "target = bank_df['Personal Loan']"
      ],
      "execution_count": 7,
      "outputs": []
    },
    {
      "cell_type": "code",
      "metadata": {
        "id": "fp_Skj7uWojq"
      },
      "source": [
        "# Split the data into trainx, testx, trainy, testy with test_size = 0.20 using sklearn\n",
        "x_train, x_test, y_train, y_test = train_test_split(feature, target, stratify=target, random_state=5, test_size=0.20)"
      ],
      "execution_count": 8,
      "outputs": []
    },
    {
      "cell_type": "code",
      "metadata": {
        "colab": {
          "base_uri": "https://localhost:8080/"
        },
        "id": "OFyh8xCQWmfz",
        "outputId": "7f81a9be-5b6b-4ef1-f0c5-be4ffcc984e7"
      },
      "source": [
        "# Print the shape of x_train, x_test, y_train, y_test\n",
        "print('Shape of x_train :', x_train.shape)\n",
        "print('Shape of x_test  :', x_test.shape)\n",
        "print('Shape of y_train :', y_train.shape)\n",
        "print('Shape of y_test  :', y_test.shape)"
      ],
      "execution_count": 9,
      "outputs": [
        {
          "output_type": "stream",
          "text": [
            "Shape of x_train : (4000, 11)\n",
            "Shape of x_test  : (1000, 11)\n",
            "Shape of y_train : (4000,)\n",
            "Shape of y_test  : (1000,)\n"
          ],
          "name": "stdout"
        }
      ]
    },
    {
      "cell_type": "markdown",
      "metadata": {
        "id": "HsK1sY3_rmXU"
      },
      "source": [
        "## Naive Bayes Classifier"
      ]
    },
    {
      "cell_type": "code",
      "metadata": {
        "id": "9Pq9fQ8HrpAm"
      },
      "source": [
        "# Create Naive Bayes object\n",
        "naive_bayes = GaussianNB()"
      ],
      "execution_count": 10,
      "outputs": []
    },
    {
      "cell_type": "code",
      "metadata": {
        "colab": {
          "base_uri": "https://localhost:8080/"
        },
        "id": "yHBpaKy6Rjyv",
        "outputId": "d4b9b183-8e4c-47a2-df25-d14bf1bb1ec6"
      },
      "source": [
        "t = time()\n",
        "# Train the model\n",
        "naive_bayes.fit(x_train, y_train)\n",
        "# Time is rounded to 3 decimal in seconds\n",
        "print(\"Training time:\", round(time()-t, 3), \"s\")"
      ],
      "execution_count": 11,
      "outputs": [
        {
          "output_type": "stream",
          "text": [
            "Training time: 0.008 s\n"
          ],
          "name": "stdout"
        }
      ]
    },
    {
      "cell_type": "code",
      "metadata": {
        "id": "7jUWMxLjRhO0"
      },
      "source": [
        "# Predict train data set\n",
        "pred_train = naive_bayes.predict(x_train)\n",
        "# Predict test data set\n",
        "pred_test = naive_bayes.predict(x_test)"
      ],
      "execution_count": 12,
      "outputs": []
    },
    {
      "cell_type": "code",
      "metadata": {
        "colab": {
          "base_uri": "https://localhost:8080/"
        },
        "id": "b_Th2BOZUZAE",
        "outputId": "ec9eb190-a9fe-48a5-a0e0-01a92ba8f118"
      },
      "source": [
        "print(\"Accuracy on train is:\", accuracy_score(y_train, pred_train))\n",
        "print(\"Accuracy on test is:\", accuracy_score(y_test, pred_test))"
      ],
      "execution_count": 13,
      "outputs": [
        {
          "output_type": "stream",
          "text": [
            "Accuracy on train is: 0.8835\n",
            "Accuracy on test is: 0.885\n"
          ],
          "name": "stdout"
        }
      ]
    },
    {
      "cell_type": "code",
      "metadata": {
        "colab": {
          "base_uri": "https://localhost:8080/"
        },
        "id": "bIy5PQQjg89Z",
        "outputId": "4be5d34a-fc47-448f-e899-b07779b81d22"
      },
      "source": [
        "# Checking performance of our model with ROC Score\n",
        "print('ROC Score:', roc_auc_score(y_test, pred_test))"
      ],
      "execution_count": 14,
      "outputs": [
        {
          "output_type": "stream",
          "text": [
            "ROC Score: 0.7688053097345132\n"
          ],
          "name": "stdout"
        }
      ]
    },
    {
      "cell_type": "code",
      "metadata": {
        "colab": {
          "base_uri": "https://localhost:8080/"
        },
        "id": "6l87cav7TqRE",
        "outputId": "1f10c285-afca-4426-aa4b-71b705d20235"
      },
      "source": [
        "# list the default parameters of the model\n",
        "naive_bayes.get_params()"
      ],
      "execution_count": 15,
      "outputs": [
        {
          "output_type": "execute_result",
          "data": {
            "text/plain": [
              "{'priors': None, 'var_smoothing': 1e-09}"
            ]
          },
          "metadata": {
            "tags": []
          },
          "execution_count": 15
        }
      ]
    },
    {
      "cell_type": "markdown",
      "metadata": {
        "id": "eGjWGN-pUe0S"
      },
      "source": [
        "## Hyper Parameter Tuning"
      ]
    },
    {
      "cell_type": "code",
      "metadata": {
        "id": "cnmxnxhdT9O5"
      },
      "source": [
        "# List hyper parameters that we wish to tune\n",
        "# Var_smoothing (Variance smoothing) parameter specifies the portion of the largest variance of all features to be added to variances for stability of calculation\n",
        "# np.logspace returns numbers spaced evenly on a log scale, starts from 0, ends at -9, and generates 100 samples\n",
        "params = {'var_smoothing': [1e-09, 1e-10, np.logspace(0,-9, num=100)]}\n",
        "# Use grid search\n",
        "grid = GridSearchCV(naive_bayes, verbose=1, param_grid=params, scoring='accuracy', cv=10, n_jobs=-1)"
      ],
      "execution_count": 16,
      "outputs": []
    },
    {
      "cell_type": "code",
      "metadata": {
        "colab": {
          "base_uri": "https://localhost:8080/"
        },
        "id": "bdw7SUg7UPR8",
        "outputId": "9a0f6e4c-6b51-4b10-a05e-f3aa9063c6ef"
      },
      "source": [
        "# Train the model\n",
        "grid.fit(x_train, y_train)\n",
        "print()"
      ],
      "execution_count": 17,
      "outputs": [
        {
          "output_type": "stream",
          "text": [
            "Fitting 10 folds for each of 3 candidates, totalling 30 fits\n"
          ],
          "name": "stdout"
        },
        {
          "output_type": "stream",
          "text": [
            "[Parallel(n_jobs=-1)]: Using backend LokyBackend with 2 concurrent workers.\n"
          ],
          "name": "stderr"
        },
        {
          "output_type": "stream",
          "text": [
            "\n"
          ],
          "name": "stdout"
        },
        {
          "output_type": "stream",
          "text": [
            "[Parallel(n_jobs=-1)]: Done  30 out of  30 | elapsed:    1.6s finished\n"
          ],
          "name": "stderr"
        }
      ]
    },
    {
      "cell_type": "code",
      "metadata": {
        "colab": {
          "base_uri": "https://localhost:8080/"
        },
        "id": "HiBX3MxBRa0l",
        "outputId": "9e27c93f-d085-4fb3-c7ce-d2161562f255"
      },
      "source": [
        "print('Best Score:', grid.best_score_)\n",
        "print('Best Parameters:', grid.best_params_)"
      ],
      "execution_count": 18,
      "outputs": [
        {
          "output_type": "stream",
          "text": [
            "Best Score: 0.88425\n",
            "Best Parameters: {'var_smoothing': 1e-09}\n"
          ],
          "name": "stdout"
        }
      ]
    },
    {
      "cell_type": "code",
      "metadata": {
        "colab": {
          "base_uri": "https://localhost:8080/"
        },
        "id": "3aoxnxxuU_4B",
        "outputId": "18f19b89-065a-4996-9c47-5dffe20abf89"
      },
      "source": [
        "best_naive_bayes = grid.best_estimator_\n",
        "# print best hyper parameters\n",
        "print(best_naive_bayes)"
      ],
      "execution_count": 19,
      "outputs": [
        {
          "output_type": "stream",
          "text": [
            "GaussianNB(priors=None, var_smoothing=1e-09)\n"
          ],
          "name": "stdout"
        }
      ]
    },
    {
      "cell_type": "code",
      "metadata": {
        "colab": {
          "base_uri": "https://localhost:8080/"
        },
        "id": "D3uG8fnrRYsH",
        "outputId": "c9426db8-9acf-431a-f086-dc041fe83dde"
      },
      "source": [
        "t = time()\n",
        "# Train the model\n",
        "best_naive_bayes.fit(x_train, y_train)\n",
        "# Time is rounded to 3 decimal in seconds\n",
        "print(\"Training time:\", round(time()-t, 3), \"s\")"
      ],
      "execution_count": 20,
      "outputs": [
        {
          "output_type": "stream",
          "text": [
            "Training time: 0.007 s\n"
          ],
          "name": "stdout"
        }
      ]
    },
    {
      "cell_type": "code",
      "metadata": {
        "id": "uMh4onAIUZfI"
      },
      "source": [
        "# Predict train data set\n",
        "pred_train = best_naive_bayes.predict(x_train)\n",
        "# Predict test data set\n",
        "pred_test = best_naive_bayes.predict(x_test)"
      ],
      "execution_count": 21,
      "outputs": []
    },
    {
      "cell_type": "code",
      "metadata": {
        "colab": {
          "base_uri": "https://localhost:8080/"
        },
        "id": "-Qy3HpCsUle4",
        "outputId": "f2205439-f273-42d7-a736-1442a035f6f2"
      },
      "source": [
        "print(\"Accuracy on train is:\", accuracy_score(y_train, pred_train))\n",
        "print(\"Accuracy on test is:\", accuracy_score(y_test, pred_test))"
      ],
      "execution_count": 22,
      "outputs": [
        {
          "output_type": "stream",
          "text": [
            "Accuracy on train is: 0.8835\n",
            "Accuracy on test is: 0.885\n"
          ],
          "name": "stdout"
        }
      ]
    },
    {
      "cell_type": "markdown",
      "metadata": {
        "id": "_2SACbUIOJLl"
      },
      "source": [
        "#### Confusion matrix for Train data"
      ]
    },
    {
      "cell_type": "code",
      "metadata": {
        "colab": {
          "base_uri": "https://localhost:8080/"
        },
        "id": "0OvussihNblW",
        "outputId": "3fe2224a-2476-41be-dc55-52572ef04bd7"
      },
      "source": [
        "# Print confusion matrix for train data\n",
        "print(confusion_matrix(y_train, pred_train))"
      ],
      "execution_count": 23,
      "outputs": [
        {
          "output_type": "stream",
          "text": [
            "[[3315  301]\n",
            " [ 165  219]]\n"
          ],
          "name": "stdout"
        }
      ]
    },
    {
      "cell_type": "code",
      "metadata": {
        "colab": {
          "base_uri": "https://localhost:8080/",
          "height": 296
        },
        "id": "xFeE0sHdHo98",
        "outputId": "692ba490-2e79-4728-fde4-2c96fed67185"
      },
      "source": [
        "# Plot confusion matrix for train data\n",
        "ConfusionMatrixDisplay(confusion_matrix=confusion_matrix(y_train, pred_train), display_labels=grid.classes_).plot()"
      ],
      "execution_count": 24,
      "outputs": [
        {
          "output_type": "execute_result",
          "data": {
            "text/plain": [
              "<sklearn.metrics._plot.confusion_matrix.ConfusionMatrixDisplay at 0x7f6b4ae9ec10>"
            ]
          },
          "metadata": {
            "tags": []
          },
          "execution_count": 24
        },
        {
          "output_type": "display_data",
          "data": {
            "image/png": "[encoded data removed]",
            "text/plain": [
              "<Figure size 432x288 with 2 Axes>"
            ]
          },
          "metadata": {
            "tags": [],
            "needs_background": "light"
          }
        }
      ]
    },
    {
      "cell_type": "markdown",
      "metadata": {
        "id": "5Sh2SqG2ONLb"
      },
      "source": [
        "#### Confusion matrix for Test data"
      ]
    },
    {
      "cell_type": "code",
      "metadata": {
        "colab": {
          "base_uri": "https://localhost:8080/"
        },
        "id": "MPzLsvsCGvY5",
        "outputId": "be4525da-2305-40be-a0d5-8f0b1236d206"
      },
      "source": [
        "# Print confusion matrix for test data\n",
        "print(confusion_matrix(y_test, pred_test))"
      ],
      "execution_count": 25,
      "outputs": [
        {
          "output_type": "stream",
          "text": [
            "[[825  79]\n",
            " [ 36  60]]\n"
          ],
          "name": "stdout"
        }
      ]
    },
    {
      "cell_type": "code",
      "metadata": {
        "colab": {
          "base_uri": "https://localhost:8080/",
          "height": 296
        },
        "id": "9h_vd3gWNrls",
        "outputId": "ccc8d4e4-685f-4ddd-f481-455a1ecf58ec"
      },
      "source": [
        "# Plot confusion matrix for test data\n",
        "ConfusionMatrixDisplay(confusion_matrix=confusion_matrix(y_test, pred_test), display_labels=grid.classes_).plot()"
      ],
      "execution_count": 26,
      "outputs": [
        {
          "output_type": "execute_result",
          "data": {
            "text/plain": [
              "<sklearn.metrics._plot.confusion_matrix.ConfusionMatrixDisplay at 0x7f6b4a90b490>"
            ]
          },
          "metadata": {
            "tags": []
          },
          "execution_count": 26
        },
        {
          "output_type": "display_data",
          "data": {
            "image/png": "[encoded data removed]",
            "text/plain": [
              "<Figure size 432x288 with 2 Axes>"
            ]
          },
          "metadata": {
            "tags": [],
            "needs_background": "light"
          }
        }
      ]
    },
    {
      "cell_type": "markdown",
      "metadata": {
        "id": "yWgitzU0ORmr"
      },
      "source": [
        "#### Performance of our model"
      ]
    },
    {
      "cell_type": "code",
      "metadata": {
        "colab": {
          "base_uri": "https://localhost:8080/"
        },
        "id": "JM77ZkQmBglX",
        "outputId": "bf189791-0770-4613-8c20-2b804e078e24"
      },
      "source": [
        "# Checking performance of our model with classification report\n",
        "print(classification_report(y_test, pred_test))"
      ],
      "execution_count": 27,
      "outputs": [
        {
          "output_type": "stream",
          "text": [
            "              precision    recall  f1-score   support\n",
            "\n",
            "           0       0.96      0.91      0.93       904\n",
            "           1       0.43      0.62      0.51        96\n",
            "\n",
            "    accuracy                           0.89      1000\n",
            "   macro avg       0.69      0.77      0.72      1000\n",
            "weighted avg       0.91      0.89      0.89      1000\n",
            "\n"
          ],
          "name": "stdout"
        }
      ]
    },
    {
      "cell_type": "code",
      "metadata": {
        "colab": {
          "base_uri": "https://localhost:8080/"
        },
        "id": "lqBQy4J3R37p",
        "outputId": "765d600e-701e-4632-fb6e-c75bc4c02276"
      },
      "source": [
        "# Checking performance of our model with ROC Score\n",
        "print('ROC Score:', roc_auc_score(y_test, pred_test))"
      ],
      "execution_count": 28,
      "outputs": [
        {
          "output_type": "stream",
          "text": [
            "ROC Score: 0.7688053097345132\n"
          ],
          "name": "stdout"
        }
      ]
    },
    {
      "cell_type": "code",
      "metadata": {
        "colab": {
          "base_uri": "https://localhost:8080/",
          "height": 296
        },
        "id": "D8wL-n6Zbdsz",
        "outputId": "24432d35-3625-4ade-933c-848509ed94f0"
      },
      "source": [
        "# Plot ROC Curve\n",
        "plot_roc_curve(best_naive_bayes, x_test, y_test)"
      ],
      "execution_count": 29,
      "outputs": [
        {
          "output_type": "execute_result",
          "data": {
            "text/plain": [
              "<sklearn.metrics._plot.roc_curve.RocCurveDisplay at 0x7f6b4a7f0290>"
            ]
          },
          "metadata": {
            "tags": []
          },
          "execution_count": 29
        },
        {
          "output_type": "display_data",
          "data": {
            "image/png": "[encoded data removed]",
            "text/plain": [
              "<Figure size 432x288 with 1 Axes>"
            ]
          },
          "metadata": {
            "tags": [],
            "needs_background": "light"
          }
        }
      ]
    },
    {
      "cell_type": "markdown",
      "metadata": {
        "id": "R9_z9BNAJo-J"
      },
      "source": [
        "## Overall Analysis"
      ]
    },
    {
      "cell_type": "markdown",
      "metadata": {
        "id": "kC96zaewJtNL"
      },
      "source": [
        "\n",
        "\n",
        "*   This is an imbalanced dataset. So, I have used stratify parameter to preserve the proportion of target as in original dataset, in the train and test datasets as well. \n",
        "\n",
        "*   Preprocessing the data to obtain 0 mean and unit variance gave no improvement in the performance of the model. So, I did not use StandardScaler for this model.\n",
        "\n",
        "*   Also, hyper parameter tuning showed no improvement in the model performance. So default parameters give the best performance.\n",
        "\n",
        "*   As per the results, accuracy is 0.89. But, it can be observed that f1-score is 0.51 for class 1, which shows that our dataset is skewed. So, instead of considering accuracy as our metric, we need to consider ROC_AUC score for highly skewed datasets.\n",
        "\n",
        "*   So, in order to deal with this imbalanced dataset, we can further upsample or downsample our dataset.\n",
        "\n"
      ]
    }
  ]
}