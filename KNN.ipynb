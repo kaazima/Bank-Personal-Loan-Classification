{
  "nbformat": 4,
  "nbformat_minor": 0,
  "metadata": {
    "colab": {
      "name": "Bank Personal Loan Classification_KNN.ipynb",
      "provenance": [],
      "authorship_tag": "ABX9TyPVVvd+RyJhmWbK4cTemQlv",
      "include_colab_link": true
    },
    "kernelspec": {
      "display_name": "Python 3",
      "name": "python3"
    },
    "language_info": {
      "name": "python"
    }
  },
  "cells": [
    {
      "cell_type": "markdown",
      "metadata": {
        "id": "view-in-github",
        "colab_type": "text"
      },
      "source": [
        "<a href=\"https://colab.research.google.com/github/kaazima/Bank-Personal-Loan-Classification/blob/main/KNN.ipynb\" target=\"_parent\"><img src=\"https://colab.research.google.com/assets/colab-badge.svg\" alt=\"Open In Colab\"/></a>"
      ]
    },
    {
      "cell_type": "markdown",
      "metadata": {
        "id": "lhJEf0vjzXpH"
      },
      "source": [
        "# Submitted by:"
      ]
    },
    {
      "cell_type": "markdown",
      "metadata": {
        "id": "d49UdKGzzNrt"
      },
      "source": [
        "Name   : Mirza Kaazima Ifrah\n",
        "\n",
        "Reg No : BL.EN.U4CSE18073 "
      ]
    },
    {
      "cell_type": "markdown",
      "metadata": {
        "id": "vXaUdpWoWxlg"
      },
      "source": [
        "## Bank Personal Loan Classification"
      ]
    },
    {
      "cell_type": "markdown",
      "metadata": {
        "id": "4_eLwqkxWuF7"
      },
      "source": [
        "Universal bank is a small but growing bank. The majority of customers are liability, or deposit only customers, and the bank is interested in converting more of them into asset, or borrowing, customers. The bank has had past success with marketing campaigns to convert the liability customers to personal loan customers. With that success, the bank is interested in being more targeted with its efforts to ensure marketing dollars are spent on those most likely to convert. The bank would like a model to help it predict which new customers are likely to become personal loan customers to aid in this targeting."
      ]
    },
    {
      "cell_type": "markdown",
      "metadata": {
        "id": "nA8qFQqqW95v"
      },
      "source": [
        "## Business Question"
      ]
    },
    {
      "cell_type": "markdown",
      "metadata": {
        "id": "Dz5djKTGXAaA"
      },
      "source": [
        "Can we predict which new customers are most likely to say yes to a personal loan?"
      ]
    },
    {
      "cell_type": "markdown",
      "metadata": {
        "id": "8KjE8M4JK_2p"
      },
      "source": [
        "## Import Necessary packages"
      ]
    },
    {
      "cell_type": "code",
      "metadata": {
        "id": "LkR-bEpKFsPV"
      },
      "source": [
        "import pandas as pd\n",
        "from time import time\n",
        "from sklearn.model_selection import train_test_split, GridSearchCV\n",
        "from sklearn.preprocessing import StandardScaler\n",
        "from sklearn.neighbors import KNeighborsClassifier\n",
        "from sklearn.metrics import accuracy_score, roc_auc_score, plot_roc_curve\n",
        "from sklearn.metrics import classification_report, confusion_matrix, ConfusionMatrixDisplay\n",
        "import seaborn as sns\n",
        "import warnings\n",
        "warnings.simplefilter(action='ignore', category=FutureWarning)"
      ],
      "execution_count": null,
      "outputs": []
    },
    {
      "cell_type": "markdown",
      "metadata": {
        "id": "9aLOc9LNMNQ6"
      },
      "source": [
        "## Dataset Analysis"
      ]
    },
    {
      "cell_type": "code",
      "metadata": {
        "colab": {
          "base_uri": "https://localhost:8080/",
          "height": 203
        },
        "id": "59Ne-EplMOC4",
        "outputId": "37ddaed7-e193-4efe-c0ce-724f53d19e46"
      },
      "source": [
        "bank_df = pd.read_csv('https://raw.githubusercontent.com/Nuthi-Sriram/Bank_Loan_Modelling/master/UniversalBank.csv')\n",
        "bank_df.head()"
      ],
      "execution_count": null,
      "outputs": [
        {
          "output_type": "execute_result",
          "data": {
            "text/html": [
              "<div>\n",
              "<style scoped>\n",
              "    .dataframe tbody tr th:only-of-type {\n",
              "        vertical-align: middle;\n",
              "    }\n",
              "\n",
              "    .dataframe tbody tr th {\n",
              "        vertical-align: top;\n",
              "    }\n",
              "\n",
              "    .dataframe thead th {\n",
              "        text-align: right;\n",
              "    }\n",
              "</style>\n",
              "<table border=\"1\" class=\"dataframe\">\n",
              "  <thead>\n",
              "    <tr style=\"text-align: right;\">\n",
              "      <th></th>\n",
              "      <th>ID</th>\n",
              "      <th>Age</th>\n",
              "      <th>Experience</th>\n",
              "      <th>Income</th>\n",
              "      <th>ZIP Code</th>\n",
              "      <th>Family</th>\n",
              "      <th>CCAvg</th>\n",
              "      <th>Education</th>\n",
              "      <th>Mortgage</th>\n",
              "      <th>Personal Loan</th>\n",
              "      <th>Securities Account</th>\n",
              "      <th>CD Account</th>\n",
              "      <th>Online</th>\n",
              "      <th>CreditCard</th>\n",
              "    </tr>\n",
              "  </thead>\n",
              "  <tbody>\n",
              "    <tr>\n",
              "      <th>0</th>\n",
              "      <td>1</td>\n",
              "      <td>25</td>\n",
              "      <td>1</td>\n",
              "      <td>49</td>\n",
              "      <td>91107</td>\n",
              "      <td>4</td>\n",
              "      <td>1.6</td>\n",
              "      <td>1</td>\n",
              "      <td>0</td>\n",
              "      <td>0</td>\n",
              "      <td>1</td>\n",
              "      <td>0</td>\n",
              "      <td>0</td>\n",
              "      <td>0</td>\n",
              "    </tr>\n",
              "    <tr>\n",
              "      <th>1</th>\n",
              "      <td>2</td>\n",
              "      <td>45</td>\n",
              "      <td>19</td>\n",
              "      <td>34</td>\n",
              "      <td>90089</td>\n",
              "      <td>3</td>\n",
              "      <td>1.5</td>\n",
              "      <td>1</td>\n",
              "      <td>0</td>\n",
              "      <td>0</td>\n",
              "      <td>1</td>\n",
              "      <td>0</td>\n",
              "      <td>0</td>\n",
              "      <td>0</td>\n",
              "    </tr>\n",
              "    <tr>\n",
              "      <th>2</th>\n",
              "      <td>3</td>\n",
              "      <td>39</td>\n",
              "      <td>15</td>\n",
              "      <td>11</td>\n",
              "      <td>94720</td>\n",
              "      <td>1</td>\n",
              "      <td>1.0</td>\n",
              "      <td>1</td>\n",
              "      <td>0</td>\n",
              "      <td>0</td>\n",
              "      <td>0</td>\n",
              "      <td>0</td>\n",
              "      <td>0</td>\n",
              "      <td>0</td>\n",
              "    </tr>\n",
              "    <tr>\n",
              "      <th>3</th>\n",
              "      <td>4</td>\n",
              "      <td>35</td>\n",
              "      <td>9</td>\n",
              "      <td>100</td>\n",
              "      <td>94112</td>\n",
              "      <td>1</td>\n",
              "      <td>2.7</td>\n",
              "      <td>2</td>\n",
              "      <td>0</td>\n",
              "      <td>0</td>\n",
              "      <td>0</td>\n",
              "      <td>0</td>\n",
              "      <td>0</td>\n",
              "      <td>0</td>\n",
              "    </tr>\n",
              "    <tr>\n",
              "      <th>4</th>\n",
              "      <td>5</td>\n",
              "      <td>35</td>\n",
              "      <td>8</td>\n",
              "      <td>45</td>\n",
              "      <td>91330</td>\n",
              "      <td>4</td>\n",
              "      <td>1.0</td>\n",
              "      <td>2</td>\n",
              "      <td>0</td>\n",
              "      <td>0</td>\n",
              "      <td>0</td>\n",
              "      <td>0</td>\n",
              "      <td>0</td>\n",
              "      <td>1</td>\n",
              "    </tr>\n",
              "  </tbody>\n",
              "</table>\n",
              "</div>"
            ],
            "text/plain": [
              "   ID  Age  Experience  ...  CD Account  Online  CreditCard\n",
              "0   1   25           1  ...           0       0           0\n",
              "1   2   45          19  ...           0       0           0\n",
              "2   3   39          15  ...           0       0           0\n",
              "3   4   35           9  ...           0       0           0\n",
              "4   5   35           8  ...           0       0           1\n",
              "\n",
              "[5 rows x 14 columns]"
            ]
          },
          "metadata": {
            "tags": []
          },
          "execution_count": 2
        }
      ]
    },
    {
      "cell_type": "code",
      "metadata": {
        "colab": {
          "base_uri": "https://localhost:8080/",
          "height": 203
        },
        "id": "Eu4PAQ52OSUC",
        "outputId": "94769914-7c4e-4812-a8fb-d08659f2ecb7"
      },
      "source": [
        "# Drop columns that are not significant\n",
        "bank_df = bank_df.drop(['ID', 'ZIP Code'], axis=1)\n",
        "bank_df.head()"
      ],
      "execution_count": null,
      "outputs": [
        {
          "output_type": "execute_result",
          "data": {
            "text/html": [
              "<div>\n",
              "<style scoped>\n",
              "    .dataframe tbody tr th:only-of-type {\n",
              "        vertical-align: middle;\n",
              "    }\n",
              "\n",
              "    .dataframe tbody tr th {\n",
              "        vertical-align: top;\n",
              "    }\n",
              "\n",
              "    .dataframe thead th {\n",
              "        text-align: right;\n",
              "    }\n",
              "</style>\n",
              "<table border=\"1\" class=\"dataframe\">\n",
              "  <thead>\n",
              "    <tr style=\"text-align: right;\">\n",
              "      <th></th>\n",
              "      <th>Age</th>\n",
              "      <th>Experience</th>\n",
              "      <th>Income</th>\n",
              "      <th>Family</th>\n",
              "      <th>CCAvg</th>\n",
              "      <th>Education</th>\n",
              "      <th>Mortgage</th>\n",
              "      <th>Personal Loan</th>\n",
              "      <th>Securities Account</th>\n",
              "      <th>CD Account</th>\n",
              "      <th>Online</th>\n",
              "      <th>CreditCard</th>\n",
              "    </tr>\n",
              "  </thead>\n",
              "  <tbody>\n",
              "    <tr>\n",
              "      <th>0</th>\n",
              "      <td>25</td>\n",
              "      <td>1</td>\n",
              "      <td>49</td>\n",
              "      <td>4</td>\n",
              "      <td>1.6</td>\n",
              "      <td>1</td>\n",
              "      <td>0</td>\n",
              "      <td>0</td>\n",
              "      <td>1</td>\n",
              "      <td>0</td>\n",
              "      <td>0</td>\n",
              "      <td>0</td>\n",
              "    </tr>\n",
              "    <tr>\n",
              "      <th>1</th>\n",
              "      <td>45</td>\n",
              "      <td>19</td>\n",
              "      <td>34</td>\n",
              "      <td>3</td>\n",
              "      <td>1.5</td>\n",
              "      <td>1</td>\n",
              "      <td>0</td>\n",
              "      <td>0</td>\n",
              "      <td>1</td>\n",
              "      <td>0</td>\n",
              "      <td>0</td>\n",
              "      <td>0</td>\n",
              "    </tr>\n",
              "    <tr>\n",
              "      <th>2</th>\n",
              "      <td>39</td>\n",
              "      <td>15</td>\n",
              "      <td>11</td>\n",
              "      <td>1</td>\n",
              "      <td>1.0</td>\n",
              "      <td>1</td>\n",
              "      <td>0</td>\n",
              "      <td>0</td>\n",
              "      <td>0</td>\n",
              "      <td>0</td>\n",
              "      <td>0</td>\n",
              "      <td>0</td>\n",
              "    </tr>\n",
              "    <tr>\n",
              "      <th>3</th>\n",
              "      <td>35</td>\n",
              "      <td>9</td>\n",
              "      <td>100</td>\n",
              "      <td>1</td>\n",
              "      <td>2.7</td>\n",
              "      <td>2</td>\n",
              "      <td>0</td>\n",
              "      <td>0</td>\n",
              "      <td>0</td>\n",
              "      <td>0</td>\n",
              "      <td>0</td>\n",
              "      <td>0</td>\n",
              "    </tr>\n",
              "    <tr>\n",
              "      <th>4</th>\n",
              "      <td>35</td>\n",
              "      <td>8</td>\n",
              "      <td>45</td>\n",
              "      <td>4</td>\n",
              "      <td>1.0</td>\n",
              "      <td>2</td>\n",
              "      <td>0</td>\n",
              "      <td>0</td>\n",
              "      <td>0</td>\n",
              "      <td>0</td>\n",
              "      <td>0</td>\n",
              "      <td>1</td>\n",
              "    </tr>\n",
              "  </tbody>\n",
              "</table>\n",
              "</div>"
            ],
            "text/plain": [
              "   Age  Experience  Income  ...  CD Account  Online  CreditCard\n",
              "0   25           1      49  ...           0       0           0\n",
              "1   45          19      34  ...           0       0           0\n",
              "2   39          15      11  ...           0       0           0\n",
              "3   35           9     100  ...           0       0           0\n",
              "4   35           8      45  ...           0       0           1\n",
              "\n",
              "[5 rows x 12 columns]"
            ]
          },
          "metadata": {
            "tags": []
          },
          "execution_count": 3
        }
      ]
    },
    {
      "cell_type": "code",
      "metadata": {
        "colab": {
          "base_uri": "https://localhost:8080/"
        },
        "id": "GEDmRdm51ydU",
        "outputId": "0aca19ec-cac2-48ff-dfff-54f81830d4a9"
      },
      "source": [
        "print('Shape:', bank_df.shape)"
      ],
      "execution_count": null,
      "outputs": [
        {
          "output_type": "stream",
          "text": [
            "Shape: (5000, 12)\n"
          ],
          "name": "stdout"
        }
      ]
    },
    {
      "cell_type": "code",
      "metadata": {
        "colab": {
          "base_uri": "https://localhost:8080/",
          "height": 142
        },
        "id": "9_sUeL-mdRHk",
        "outputId": "e8df3d62-73dd-456c-bc89-d07634a0d162"
      },
      "source": [
        "bank_df['Personal Loan'].value_counts().rename_axis('Personal Loan').to_frame('No of customers')"
      ],
      "execution_count": null,
      "outputs": [
        {
          "output_type": "execute_result",
          "data": {
            "text/html": [
              "<div>\n",
              "<style scoped>\n",
              "    .dataframe tbody tr th:only-of-type {\n",
              "        vertical-align: middle;\n",
              "    }\n",
              "\n",
              "    .dataframe tbody tr th {\n",
              "        vertical-align: top;\n",
              "    }\n",
              "\n",
              "    .dataframe thead th {\n",
              "        text-align: right;\n",
              "    }\n",
              "</style>\n",
              "<table border=\"1\" class=\"dataframe\">\n",
              "  <thead>\n",
              "    <tr style=\"text-align: right;\">\n",
              "      <th></th>\n",
              "      <th>No of customers</th>\n",
              "    </tr>\n",
              "    <tr>\n",
              "      <th>Personal Loan</th>\n",
              "      <th></th>\n",
              "    </tr>\n",
              "  </thead>\n",
              "  <tbody>\n",
              "    <tr>\n",
              "      <th>0</th>\n",
              "      <td>4520</td>\n",
              "    </tr>\n",
              "    <tr>\n",
              "      <th>1</th>\n",
              "      <td>480</td>\n",
              "    </tr>\n",
              "  </tbody>\n",
              "</table>\n",
              "</div>"
            ],
            "text/plain": [
              "               No of customers\n",
              "Personal Loan                 \n",
              "0                         4520\n",
              "1                          480"
            ]
          },
          "metadata": {
            "tags": []
          },
          "execution_count": 5
        }
      ]
    },
    {
      "cell_type": "code",
      "metadata": {
        "colab": {
          "base_uri": "https://localhost:8080/",
          "height": 296
        },
        "id": "uH9IJVKcRRBh",
        "outputId": "b71e0278-6c68-4652-dd77-f4e666c34772"
      },
      "source": [
        "sns.countplot(bank_df['Personal Loan'])"
      ],
      "execution_count": null,
      "outputs": [
        {
          "output_type": "execute_result",
          "data": {
            "text/plain": [
              "<matplotlib.axes._subplots.AxesSubplot at 0x7f78c20adbd0>"
            ]
          },
          "metadata": {
            "tags": []
          },
          "execution_count": 6
        },
        {
          "output_type": "display_data",
          "data": {
            "image/png": "[encoded data removed]",
            "text/plain": [
              "<Figure size 432x288 with 1 Axes>"
            ]
          },
          "metadata": {
            "tags": [],
            "needs_background": "light"
          }
        }
      ]
    },
    {
      "cell_type": "markdown",
      "metadata": {
        "id": "vq1pDYZ1J_aj"
      },
      "source": [
        "\n",
        "\n",
        "*   90.4% of the total customers take personal loan\n",
        "*   9.6% of the total customers do not take personal loan\n",
        "*   So, the dataset is skewed and we need to deal with this imbalanced dataset\n",
        "\n"
      ]
    },
    {
      "cell_type": "markdown",
      "metadata": {
        "id": "JvfGq2yXXDSc"
      },
      "source": [
        "## Split dataset into train & test"
      ]
    },
    {
      "cell_type": "code",
      "metadata": {
        "id": "gsRPP1yBVV2W"
      },
      "source": [
        "feature = bank_df.copy().drop('Personal Loan', axis=1)\n",
        "target = bank_df['Personal Loan']"
      ],
      "execution_count": null,
      "outputs": []
    },
    {
      "cell_type": "code",
      "metadata": {
        "id": "fp_Skj7uWojq"
      },
      "source": [
        "# Split the data into trainx, testx, trainy, testy with test_size = 0.20 using sklearn\n",
        "x_train, x_test, y_train, y_test = train_test_split(feature, target, stratify=target, random_state=5, test_size=0.20)\n",
        "# Scale data to obtain zero mean and unit variance\n",
        "scaler = StandardScaler() \n",
        "x_train = scaler.fit_transform(x_train)  \n",
        "x_test = scaler.transform(x_test)"
      ],
      "execution_count": null,
      "outputs": []
    },
    {
      "cell_type": "code",
      "metadata": {
        "colab": {
          "base_uri": "https://localhost:8080/"
        },
        "id": "OFyh8xCQWmfz",
        "outputId": "6d7d628a-60b2-4008-eb44-59bcfc8525ec"
      },
      "source": [
        "# Print the shape of x_train, x_test, y_train, y_test\n",
        "print('Shape of x_train :', x_train.shape)\n",
        "print('Shape of x_test  :', x_test.shape)\n",
        "print('Shape of y_train :', y_train.shape)\n",
        "print('Shape of y_test  :', y_test.shape)"
      ],
      "execution_count": null,
      "outputs": [
        {
          "output_type": "stream",
          "text": [
            "Shape of x_train : (4000, 11)\n",
            "Shape of x_test  : (1000, 11)\n",
            "Shape of y_train : (4000,)\n",
            "Shape of y_test  : (1000,)\n"
          ],
          "name": "stdout"
        }
      ]
    },
    {
      "cell_type": "markdown",
      "metadata": {
        "id": "u2q3y6f2UDlE"
      },
      "source": [
        "## KNN Classifier"
      ]
    },
    {
      "cell_type": "code",
      "metadata": {
        "id": "J6dqGvxtS8lW"
      },
      "source": [
        "# Create KNN object\n",
        "knn_classifier = KNeighborsClassifier(algorithm='brute')"
      ],
      "execution_count": null,
      "outputs": []
    },
    {
      "cell_type": "code",
      "metadata": {
        "colab": {
          "base_uri": "https://localhost:8080/"
        },
        "id": "8n29bT3hdzQX",
        "outputId": "882af912-a659-459a-bede-2190c181c82b"
      },
      "source": [
        "t = time()\n",
        "# Train the model\n",
        "knn_classifier.fit(x_train, y_train)\n",
        "# Time is rounded to 3 decimal in seconds\n",
        "print(\"Training time:\", round(time()-t, 3), \"s\")"
      ],
      "execution_count": null,
      "outputs": [
        {
          "output_type": "stream",
          "text": [
            "Training time: 0.001 s\n"
          ],
          "name": "stdout"
        }
      ]
    },
    {
      "cell_type": "code",
      "metadata": {
        "id": "c9i5GXN3dw0E"
      },
      "source": [
        "# Predict train data set\n",
        "pred_train = knn_classifier.predict(x_train)\n",
        "# Predict test data set\n",
        "pred_test = knn_classifier.predict(x_test)"
      ],
      "execution_count": null,
      "outputs": []
    },
    {
      "cell_type": "code",
      "metadata": {
        "colab": {
          "base_uri": "https://localhost:8080/"
        },
        "id": "X0pmFO-kTR4l",
        "outputId": "8c514bac-475e-4550-ed09-44733fa6513b"
      },
      "source": [
        "print(\"Accuracy on train is:\", accuracy_score(y_train, pred_train))\n",
        "print(\"Accuracy on test is:\", accuracy_score(y_test, pred_test))"
      ],
      "execution_count": null,
      "outputs": [
        {
          "output_type": "stream",
          "text": [
            "Accuracy on train is: 0.97325\n",
            "Accuracy on test is: 0.959\n"
          ],
          "name": "stdout"
        }
      ]
    },
    {
      "cell_type": "code",
      "metadata": {
        "colab": {
          "base_uri": "https://localhost:8080/"
        },
        "id": "K2DIuDuqOQbD",
        "outputId": "4c638314-7da5-4a91-ee1c-8dc088bc5c67"
      },
      "source": [
        "# Checking performance of our model with ROC Score\n",
        "print('ROC Score:', roc_auc_score(y_test, pred_test))"
      ],
      "execution_count": null,
      "outputs": [
        {
          "output_type": "stream",
          "text": [
            "ROC Score: 0.8097345132743362\n"
          ],
          "name": "stdout"
        }
      ]
    },
    {
      "cell_type": "markdown",
      "metadata": {
        "id": "i0PVOANOTJ-N"
      },
      "source": [
        "## Hyper Parameter Tuning"
      ]
    },
    {
      "cell_type": "code",
      "metadata": {
        "id": "iVlMPctIQYBt"
      },
      "source": [
        "# List hyper parameters that we wish to tune\n",
        "params = {'n_neighbors': list(range(1,25)), 'weights': ['uniform', 'distance'], 'metric': [\"euclidean\", 'cityblock']}\n",
        "# Use grid search\n",
        "grid = GridSearchCV(knn_classifier, verbose=1, param_grid=params, scoring='accuracy', cv=10)"
      ],
      "execution_count": null,
      "outputs": []
    },
    {
      "cell_type": "code",
      "metadata": {
        "colab": {
          "base_uri": "https://localhost:8080/"
        },
        "id": "bdw7SUg7UPR8",
        "outputId": "da5968e1-5bb9-40cc-ad1b-9ff4c828c6f6"
      },
      "source": [
        "# Train the model\n",
        "grid.fit(x_train, y_train)\n",
        "print()"
      ],
      "execution_count": null,
      "outputs": [
        {
          "output_type": "stream",
          "text": [
            "Fitting 10 folds for each of 96 candidates, totalling 960 fits\n"
          ],
          "name": "stdout"
        },
        {
          "output_type": "stream",
          "text": [
            "[Parallel(n_jobs=1)]: Using backend SequentialBackend with 1 concurrent workers.\n"
          ],
          "name": "stderr"
        },
        {
          "output_type": "stream",
          "text": [
            "\n"
          ],
          "name": "stdout"
        },
        {
          "output_type": "stream",
          "text": [
            "[Parallel(n_jobs=1)]: Done 960 out of 960 | elapsed:   40.3s finished\n"
          ],
          "name": "stderr"
        }
      ]
    },
    {
      "cell_type": "code",
      "metadata": {
        "colab": {
          "base_uri": "https://localhost:8080/"
        },
        "id": "HiBX3MxBRa0l",
        "outputId": "c373ecfe-564e-4d26-9a2b-b39afcb03fe3"
      },
      "source": [
        "print('Best Score:', grid.best_score_)\n",
        "print('Best Parameters:', grid.best_params_)"
      ],
      "execution_count": null,
      "outputs": [
        {
          "output_type": "stream",
          "text": [
            "Best Score: 0.9617500000000001\n",
            "Best Parameters: {'metric': 'euclidean', 'n_neighbors': 4, 'weights': 'distance'}\n"
          ],
          "name": "stdout"
        }
      ]
    },
    {
      "cell_type": "code",
      "metadata": {
        "colab": {
          "base_uri": "https://localhost:8080/"
        },
        "id": "3aoxnxxuU_4B",
        "outputId": "d236e4fb-acd8-4816-9a29-8c95b0da9b58"
      },
      "source": [
        "best_knn = grid.best_estimator_\n",
        "# print best hyper parameters\n",
        "print(best_knn)"
      ],
      "execution_count": null,
      "outputs": [
        {
          "output_type": "stream",
          "text": [
            "KNeighborsClassifier(algorithm='brute', leaf_size=30, metric='euclidean',\n",
            "                     metric_params=None, n_jobs=None, n_neighbors=4, p=2,\n",
            "                     weights='distance')\n"
          ],
          "name": "stdout"
        }
      ]
    },
    {
      "cell_type": "code",
      "metadata": {
        "colab": {
          "base_uri": "https://localhost:8080/"
        },
        "id": "ybefnNLpeJDR",
        "outputId": "74fffdd9-3d6c-4329-fb9a-00924303e700"
      },
      "source": [
        "t = time()\n",
        "# Train the model\n",
        "best_knn.fit(x_train, y_train)\n",
        "# Time is rounded to 3 decimal in seconds\n",
        "print(\"Training time:\", round(time()-t, 3), \"s\")"
      ],
      "execution_count": null,
      "outputs": [
        {
          "output_type": "stream",
          "text": [
            "Training time: 0.001 s\n"
          ],
          "name": "stdout"
        }
      ]
    },
    {
      "cell_type": "code",
      "metadata": {
        "id": "uMh4onAIUZfI"
      },
      "source": [
        "# Predict train data set\n",
        "pred_train = best_knn.predict(x_train)\n",
        "# Predict test data set\n",
        "pred_test = best_knn.predict(x_test)"
      ],
      "execution_count": null,
      "outputs": []
    },
    {
      "cell_type": "code",
      "metadata": {
        "colab": {
          "base_uri": "https://localhost:8080/"
        },
        "id": "-Qy3HpCsUle4",
        "outputId": "d4330907-5793-4344-ea60-a3673b9367b5"
      },
      "source": [
        "print(\"Accuracy on train is:\", accuracy_score(y_train, pred_train))\n",
        "print(\"Accuracy on test is:\", accuracy_score(y_test, pred_test))"
      ],
      "execution_count": null,
      "outputs": [
        {
          "output_type": "stream",
          "text": [
            "Accuracy on train is: 1.0\n",
            "Accuracy on test is: 0.963\n"
          ],
          "name": "stdout"
        }
      ]
    },
    {
      "cell_type": "markdown",
      "metadata": {
        "id": "_2SACbUIOJLl"
      },
      "source": [
        "#### Confusion matrix for Train data"
      ]
    },
    {
      "cell_type": "code",
      "metadata": {
        "colab": {
          "base_uri": "https://localhost:8080/"
        },
        "id": "0OvussihNblW",
        "outputId": "b320bbc2-6e1f-4f2e-f48b-d46d51bcb06c"
      },
      "source": [
        "# Print confusion matrix for train data\n",
        "print(confusion_matrix(y_train, pred_train))"
      ],
      "execution_count": null,
      "outputs": [
        {
          "output_type": "stream",
          "text": [
            "[[3616    0]\n",
            " [   0  384]]\n"
          ],
          "name": "stdout"
        }
      ]
    },
    {
      "cell_type": "code",
      "metadata": {
        "colab": {
          "base_uri": "https://localhost:8080/",
          "height": 296
        },
        "id": "xFeE0sHdHo98",
        "outputId": "576b527d-3348-4ec1-8843-3e758299b514"
      },
      "source": [
        "# Plot confusion matrix for train data\n",
        "ConfusionMatrixDisplay(confusion_matrix=confusion_matrix(y_train, pred_train), display_labels=grid.classes_).plot()"
      ],
      "execution_count": null,
      "outputs": [
        {
          "output_type": "execute_result",
          "data": {
            "text/plain": [
              "<sklearn.metrics._plot.confusion_matrix.ConfusionMatrixDisplay at 0x7f78c1b56a10>"
            ]
          },
          "metadata": {
            "tags": []
          },
          "execution_count": 23
        },
        {
          "output_type": "display_data",
          "data": {
            "image/png": "[encoded data removed]",
            "text/plain": [
              "<Figure size 432x288 with 2 Axes>"
            ]
          },
          "metadata": {
            "tags": [],
            "needs_background": "light"
          }
        }
      ]
    },
    {
      "cell_type": "markdown",
      "metadata": {
        "id": "5Sh2SqG2ONLb"
      },
      "source": [
        "#### Confusion matrix for Test data"
      ]
    },
    {
      "cell_type": "code",
      "metadata": {
        "colab": {
          "base_uri": "https://localhost:8080/"
        },
        "id": "MPzLsvsCGvY5",
        "outputId": "31b40813-9c03-4034-8e7a-42869e9768b2"
      },
      "source": [
        "# Print confusion matrix for test data\n",
        "print(confusion_matrix(y_test, pred_test))"
      ],
      "execution_count": null,
      "outputs": [
        {
          "output_type": "stream",
          "text": [
            "[[898   6]\n",
            " [ 31  65]]\n"
          ],
          "name": "stdout"
        }
      ]
    },
    {
      "cell_type": "code",
      "metadata": {
        "colab": {
          "base_uri": "https://localhost:8080/",
          "height": 296
        },
        "id": "9h_vd3gWNrls",
        "outputId": "a57a0019-ee5e-438f-a16a-bcd76bfa21ec"
      },
      "source": [
        "# Plot confusion matrix for test data\n",
        "ConfusionMatrixDisplay(confusion_matrix=confusion_matrix(y_test, pred_test), display_labels=grid.classes_).plot()"
      ],
      "execution_count": null,
      "outputs": [
        {
          "output_type": "execute_result",
          "data": {
            "text/plain": [
              "<sklearn.metrics._plot.confusion_matrix.ConfusionMatrixDisplay at 0x7f78b9af0fd0>"
            ]
          },
          "metadata": {
            "tags": []
          },
          "execution_count": 25
        },
        {
          "output_type": "display_data",
          "data": {
            "image/png": "[encoded data removed]",
            "text/plain": [
              "<Figure size 432x288 with 2 Axes>"
            ]
          },
          "metadata": {
            "tags": [],
            "needs_background": "light"
          }
        }
      ]
    },
    {
      "cell_type": "markdown",
      "metadata": {
        "id": "yWgitzU0ORmr"
      },
      "source": [
        "#### Performance of our model"
      ]
    },
    {
      "cell_type": "code",
      "metadata": {
        "colab": {
          "base_uri": "https://localhost:8080/"
        },
        "id": "JM77ZkQmBglX",
        "outputId": "93dede8e-8c95-434f-9c52-c00d801c3af7"
      },
      "source": [
        "# Checking performance of our model with classification report\n",
        "print(classification_report(y_test, pred_test))"
      ],
      "execution_count": null,
      "outputs": [
        {
          "output_type": "stream",
          "text": [
            "              precision    recall  f1-score   support\n",
            "\n",
            "           0       0.97      0.99      0.98       904\n",
            "           1       0.92      0.68      0.78        96\n",
            "\n",
            "    accuracy                           0.96      1000\n",
            "   macro avg       0.94      0.84      0.88      1000\n",
            "weighted avg       0.96      0.96      0.96      1000\n",
            "\n"
          ],
          "name": "stdout"
        }
      ]
    },
    {
      "cell_type": "code",
      "metadata": {
        "colab": {
          "base_uri": "https://localhost:8080/"
        },
        "id": "lqBQy4J3R37p",
        "outputId": "8b9e41bf-6fd7-4056-a206-fe330601f232"
      },
      "source": [
        "# Checking performance of our model with ROC Score\n",
        "print('ROC Score:', roc_auc_score(y_test, pred_test))"
      ],
      "execution_count": null,
      "outputs": [
        {
          "output_type": "stream",
          "text": [
            "ROC Score: 0.8352230825958703\n"
          ],
          "name": "stdout"
        }
      ]
    },
    {
      "cell_type": "code",
      "metadata": {
        "colab": {
          "base_uri": "https://localhost:8080/",
          "height": 296
        },
        "id": "CM7hFgxBduaC",
        "outputId": "b8101f91-8fe6-48bc-b0ab-4b0d344cce97"
      },
      "source": [
        "# Plot ROC Curve\n",
        "plot_roc_curve(best_knn, x_test, y_test)"
      ],
      "execution_count": null,
      "outputs": [
        {
          "output_type": "execute_result",
          "data": {
            "text/plain": [
              "<sklearn.metrics._plot.roc_curve.RocCurveDisplay at 0x7f78b9a70350>"
            ]
          },
          "metadata": {
            "tags": []
          },
          "execution_count": 28
        },
        {
          "output_type": "display_data",
          "data": {
            "image/png": "[encoded data removed]",
            "text/plain": [
              "<Figure size 432x288 with 1 Axes>"
            ]
          },
          "metadata": {
            "tags": [],
            "needs_background": "light"
          }
        }
      ]
    },
    {
      "cell_type": "markdown",
      "metadata": {
        "id": "R9_z9BNAJo-J"
      },
      "source": [
        "## Overall Analysis"
      ]
    },
    {
      "cell_type": "markdown",
      "metadata": {
        "id": "kC96zaewJtNL"
      },
      "source": [
        "\n",
        "\n",
        "*   This is an imbalanced dataset. So, I have used stratify parameter to preserve the proportion of target as in original dataset, in the train and test datasets as well. Also, I have preprocessed data using StandardScaler to obtain 0 mean and unit variance. Doing this improved the accuracy and ROC score of the model to a great extent.\n",
        "\n",
        "*   As per the results, accuracy is 0.96. But, it can be observed that f1-score is 0.78 for class 1, which shows that our dataset is skewed. So, instead of considering accuracy as our metric, we need to consider ROC_AUC score for highly skewed datasets.\n",
        "\n",
        "*   Default parameters of the model gave an ROC score of 0.809, whereas after hyperparameter tuning, ROC score raised to 0.835. Also, the training time after hyperparameter tuning is 0.001 seconds, which is better than that of default parameters, which is 0.003 seconds.\n",
        "\n",
        "*   We can further upsample or downsample our dataset, in order to deal with this imbalanced dataset, to get much better results.\n",
        "\n"
      ]
    }
  ]
}