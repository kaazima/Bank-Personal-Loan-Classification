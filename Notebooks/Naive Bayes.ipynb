{
  "nbformat": 4,
  "nbformat_minor": 0,
  "metadata": {
    "colab": {
      "name": "Bank Personal Loan Classification_Naive Bayes.ipynb",
      "provenance": [],
      "collapsed_sections": [],
      "authorship_tag": "ABX9TyPXfl8gqlxVDouVrQSOHQRl",
      "include_colab_link": true
    },
    "kernelspec": {
      "display_name": "Python 3",
      "name": "python3"
    },
    "language_info": {
      "name": "python"
    }
  },
  "cells": [
    {
      "cell_type": "markdown",
      "metadata": {
        "id": "view-in-github",
        "colab_type": "text"
      },
      "source": [
        "<a href=\"https://colab.research.google.com/github/kaazima/Bank-Personal-Loan-Classification/blob/main/Naive%20Bayes.ipynb\" target=\"_parent\"><img src=\"https://colab.research.google.com/assets/colab-badge.svg\" alt=\"Open In Colab\"/></a>"
      ]
    },
    {
      "cell_type": "markdown",
      "metadata": {
        "id": "lhJEf0vjzXpH"
      },
      "source": [
        "# Submitted by:"
      ]
    },
    {
      "cell_type": "markdown",
      "metadata": {
        "id": "d49UdKGzzNrt"
      },
      "source": [
        "Name   : Mirza Kaazima Ifrah\n",
        "\n",
        "Reg No : BL.EN.U4CSE18073 "
      ]
    },
    {
      "cell_type": "markdown",
      "metadata": {
        "id": "vXaUdpWoWxlg"
      },
      "source": [
        "## Bank Personal Loan Classification"
      ]
    },
    {
      "cell_type": "markdown",
      "metadata": {
        "id": "4_eLwqkxWuF7"
      },
      "source": [
        "Universal bank is a small but growing bank. The majority of customers are liability, or deposit only customers, and the bank is interested in converting more of them into asset, or borrowing, customers. The bank has had past success with marketing campaigns to convert the liability customers to personal loan customers. With that success, the bank is interested in being more targeted with its efforts to ensure marketing dollars are spent on those most likely to convert. The bank would like a model to help it predict which new customers are likely to become personal loan customers to aid in this targeting."
      ]
    },
    {
      "cell_type": "markdown",
      "metadata": {
        "id": "nA8qFQqqW95v"
      },
      "source": [
        "## Business Question"
      ]
    },
    {
      "cell_type": "markdown",
      "metadata": {
        "id": "Dz5djKTGXAaA"
      },
      "source": [
        "Can we predict which new customers are most likely to say yes to a personal loan?"
      ]
    },
    {
      "cell_type": "markdown",
      "metadata": {
        "id": "8KjE8M4JK_2p"
      },
      "source": [
        "## Import Necessary packages"
      ]
    },
    {
      "cell_type": "code",
      "metadata": {
        "id": "LkR-bEpKFsPV",
        "colab": {
          "base_uri": "https://localhost:8080/"
        },
        "outputId": "79870ea1-7737-4e04-a246-c99c5aa21764"
      },
      "source": [
        "import pandas as pd\n",
        "import numpy as np\n",
        "from time import time\n",
        "from sklearn.model_selection import train_test_split, GridSearchCV\n",
        "from imblearn.over_sampling import SMOTE\n",
        "from sklearn.preprocessing import StandardScaler\n",
        "from sklearn.naive_bayes import GaussianNB\n",
        "from sklearn.metrics import accuracy_score, roc_auc_score, plot_roc_curve\n",
        "from sklearn.metrics import classification_report, confusion_matrix, ConfusionMatrixDisplay\n",
        "import seaborn as sns\n",
        "import warnings\n",
        "warnings.simplefilter(action='ignore', category=FutureWarning)"
      ],
      "execution_count": null,
      "outputs": [
        {
          "output_type": "stream",
          "text": [
            "/usr/local/lib/python3.7/dist-packages/sklearn/externals/six.py:31: FutureWarning: The module is deprecated in version 0.21 and will be removed in version 0.23 since we've dropped support for Python 2.7. Please rely on the official version of six (https://pypi.org/project/six/).\n",
            "  \"(https://pypi.org/project/six/).\", FutureWarning)\n",
            "/usr/local/lib/python3.7/dist-packages/sklearn/utils/deprecation.py:144: FutureWarning: The sklearn.neighbors.base module is  deprecated in version 0.22 and will be removed in version 0.24. The corresponding classes / functions should instead be imported from sklearn.neighbors. Anything that cannot be imported from sklearn.neighbors is now part of the private API.\n",
            "  warnings.warn(message, FutureWarning)\n"
          ],
          "name": "stderr"
        }
      ]
    },
    {
      "cell_type": "markdown",
      "metadata": {
        "id": "9aLOc9LNMNQ6"
      },
      "source": [
        "## Dataset Analysis"
      ]
    },
    {
      "cell_type": "code",
      "metadata": {
        "colab": {
          "base_uri": "https://localhost:8080/",
          "height": 203
        },
        "id": "59Ne-EplMOC4",
        "outputId": "c6615363-3532-4412-9420-41a1751b4143"
      },
      "source": [
        "bank_df = pd.read_csv('https://raw.githubusercontent.com/Nuthi-Sriram/Bank_Loan_Modelling/master/UniversalBank.csv')\n",
        "bank_df.head()"
      ],
      "execution_count": null,
      "outputs": [
        {
          "output_type": "execute_result",
          "data": {
            "text/html": [
              "<div>\n",
              "<style scoped>\n",
              "    .dataframe tbody tr th:only-of-type {\n",
              "        vertical-align: middle;\n",
              "    }\n",
              "\n",
              "    .dataframe tbody tr th {\n",
              "        vertical-align: top;\n",
              "    }\n",
              "\n",
              "    .dataframe thead th {\n",
              "        text-align: right;\n",
              "    }\n",
              "</style>\n",
              "<table border=\"1\" class=\"dataframe\">\n",
              "  <thead>\n",
              "    <tr style=\"text-align: right;\">\n",
              "      <th></th>\n",
              "      <th>ID</th>\n",
              "      <th>Age</th>\n",
              "      <th>Experience</th>\n",
              "      <th>Income</th>\n",
              "      <th>ZIP Code</th>\n",
              "      <th>Family</th>\n",
              "      <th>CCAvg</th>\n",
              "      <th>Education</th>\n",
              "      <th>Mortgage</th>\n",
              "      <th>Personal Loan</th>\n",
              "      <th>Securities Account</th>\n",
              "      <th>CD Account</th>\n",
              "      <th>Online</th>\n",
              "      <th>CreditCard</th>\n",
              "    </tr>\n",
              "  </thead>\n",
              "  <tbody>\n",
              "    <tr>\n",
              "      <th>0</th>\n",
              "      <td>1</td>\n",
              "      <td>25</td>\n",
              "      <td>1</td>\n",
              "      <td>49</td>\n",
              "      <td>91107</td>\n",
              "      <td>4</td>\n",
              "      <td>1.6</td>\n",
              "      <td>1</td>\n",
              "      <td>0</td>\n",
              "      <td>0</td>\n",
              "      <td>1</td>\n",
              "      <td>0</td>\n",
              "      <td>0</td>\n",
              "      <td>0</td>\n",
              "    </tr>\n",
              "    <tr>\n",
              "      <th>1</th>\n",
              "      <td>2</td>\n",
              "      <td>45</td>\n",
              "      <td>19</td>\n",
              "      <td>34</td>\n",
              "      <td>90089</td>\n",
              "      <td>3</td>\n",
              "      <td>1.5</td>\n",
              "      <td>1</td>\n",
              "      <td>0</td>\n",
              "      <td>0</td>\n",
              "      <td>1</td>\n",
              "      <td>0</td>\n",
              "      <td>0</td>\n",
              "      <td>0</td>\n",
              "    </tr>\n",
              "    <tr>\n",
              "      <th>2</th>\n",
              "      <td>3</td>\n",
              "      <td>39</td>\n",
              "      <td>15</td>\n",
              "      <td>11</td>\n",
              "      <td>94720</td>\n",
              "      <td>1</td>\n",
              "      <td>1.0</td>\n",
              "      <td>1</td>\n",
              "      <td>0</td>\n",
              "      <td>0</td>\n",
              "      <td>0</td>\n",
              "      <td>0</td>\n",
              "      <td>0</td>\n",
              "      <td>0</td>\n",
              "    </tr>\n",
              "    <tr>\n",
              "      <th>3</th>\n",
              "      <td>4</td>\n",
              "      <td>35</td>\n",
              "      <td>9</td>\n",
              "      <td>100</td>\n",
              "      <td>94112</td>\n",
              "      <td>1</td>\n",
              "      <td>2.7</td>\n",
              "      <td>2</td>\n",
              "      <td>0</td>\n",
              "      <td>0</td>\n",
              "      <td>0</td>\n",
              "      <td>0</td>\n",
              "      <td>0</td>\n",
              "      <td>0</td>\n",
              "    </tr>\n",
              "    <tr>\n",
              "      <th>4</th>\n",
              "      <td>5</td>\n",
              "      <td>35</td>\n",
              "      <td>8</td>\n",
              "      <td>45</td>\n",
              "      <td>91330</td>\n",
              "      <td>4</td>\n",
              "      <td>1.0</td>\n",
              "      <td>2</td>\n",
              "      <td>0</td>\n",
              "      <td>0</td>\n",
              "      <td>0</td>\n",
              "      <td>0</td>\n",
              "      <td>0</td>\n",
              "      <td>1</td>\n",
              "    </tr>\n",
              "  </tbody>\n",
              "</table>\n",
              "</div>"
            ],
            "text/plain": [
              "   ID  Age  Experience  ...  CD Account  Online  CreditCard\n",
              "0   1   25           1  ...           0       0           0\n",
              "1   2   45          19  ...           0       0           0\n",
              "2   3   39          15  ...           0       0           0\n",
              "3   4   35           9  ...           0       0           0\n",
              "4   5   35           8  ...           0       0           1\n",
              "\n",
              "[5 rows x 14 columns]"
            ]
          },
          "metadata": {},
          "execution_count": 2
        }
      ]
    },
    {
      "cell_type": "code",
      "metadata": {
        "colab": {
          "base_uri": "https://localhost:8080/",
          "height": 203
        },
        "id": "Eu4PAQ52OSUC",
        "outputId": "3ca29fcf-fcc0-4ce1-d285-6148cfe506c3"
      },
      "source": [
        "# Drop columns that are not significant\n",
        "bank_df = bank_df.drop(['ID', 'ZIP Code'], axis=1)\n",
        "bank_df.head()"
      ],
      "execution_count": null,
      "outputs": [
        {
          "output_type": "execute_result",
          "data": {
            "text/html": [
              "<div>\n",
              "<style scoped>\n",
              "    .dataframe tbody tr th:only-of-type {\n",
              "        vertical-align: middle;\n",
              "    }\n",
              "\n",
              "    .dataframe tbody tr th {\n",
              "        vertical-align: top;\n",
              "    }\n",
              "\n",
              "    .dataframe thead th {\n",
              "        text-align: right;\n",
              "    }\n",
              "</style>\n",
              "<table border=\"1\" class=\"dataframe\">\n",
              "  <thead>\n",
              "    <tr style=\"text-align: right;\">\n",
              "      <th></th>\n",
              "      <th>Age</th>\n",
              "      <th>Experience</th>\n",
              "      <th>Income</th>\n",
              "      <th>Family</th>\n",
              "      <th>CCAvg</th>\n",
              "      <th>Education</th>\n",
              "      <th>Mortgage</th>\n",
              "      <th>Personal Loan</th>\n",
              "      <th>Securities Account</th>\n",
              "      <th>CD Account</th>\n",
              "      <th>Online</th>\n",
              "      <th>CreditCard</th>\n",
              "    </tr>\n",
              "  </thead>\n",
              "  <tbody>\n",
              "    <tr>\n",
              "      <th>0</th>\n",
              "      <td>25</td>\n",
              "      <td>1</td>\n",
              "      <td>49</td>\n",
              "      <td>4</td>\n",
              "      <td>1.6</td>\n",
              "      <td>1</td>\n",
              "      <td>0</td>\n",
              "      <td>0</td>\n",
              "      <td>1</td>\n",
              "      <td>0</td>\n",
              "      <td>0</td>\n",
              "      <td>0</td>\n",
              "    </tr>\n",
              "    <tr>\n",
              "      <th>1</th>\n",
              "      <td>45</td>\n",
              "      <td>19</td>\n",
              "      <td>34</td>\n",
              "      <td>3</td>\n",
              "      <td>1.5</td>\n",
              "      <td>1</td>\n",
              "      <td>0</td>\n",
              "      <td>0</td>\n",
              "      <td>1</td>\n",
              "      <td>0</td>\n",
              "      <td>0</td>\n",
              "      <td>0</td>\n",
              "    </tr>\n",
              "    <tr>\n",
              "      <th>2</th>\n",
              "      <td>39</td>\n",
              "      <td>15</td>\n",
              "      <td>11</td>\n",
              "      <td>1</td>\n",
              "      <td>1.0</td>\n",
              "      <td>1</td>\n",
              "      <td>0</td>\n",
              "      <td>0</td>\n",
              "      <td>0</td>\n",
              "      <td>0</td>\n",
              "      <td>0</td>\n",
              "      <td>0</td>\n",
              "    </tr>\n",
              "    <tr>\n",
              "      <th>3</th>\n",
              "      <td>35</td>\n",
              "      <td>9</td>\n",
              "      <td>100</td>\n",
              "      <td>1</td>\n",
              "      <td>2.7</td>\n",
              "      <td>2</td>\n",
              "      <td>0</td>\n",
              "      <td>0</td>\n",
              "      <td>0</td>\n",
              "      <td>0</td>\n",
              "      <td>0</td>\n",
              "      <td>0</td>\n",
              "    </tr>\n",
              "    <tr>\n",
              "      <th>4</th>\n",
              "      <td>35</td>\n",
              "      <td>8</td>\n",
              "      <td>45</td>\n",
              "      <td>4</td>\n",
              "      <td>1.0</td>\n",
              "      <td>2</td>\n",
              "      <td>0</td>\n",
              "      <td>0</td>\n",
              "      <td>0</td>\n",
              "      <td>0</td>\n",
              "      <td>0</td>\n",
              "      <td>1</td>\n",
              "    </tr>\n",
              "  </tbody>\n",
              "</table>\n",
              "</div>"
            ],
            "text/plain": [
              "   Age  Experience  Income  ...  CD Account  Online  CreditCard\n",
              "0   25           1      49  ...           0       0           0\n",
              "1   45          19      34  ...           0       0           0\n",
              "2   39          15      11  ...           0       0           0\n",
              "3   35           9     100  ...           0       0           0\n",
              "4   35           8      45  ...           0       0           1\n",
              "\n",
              "[5 rows x 12 columns]"
            ]
          },
          "metadata": {},
          "execution_count": 3
        }
      ]
    },
    {
      "cell_type": "code",
      "metadata": {
        "colab": {
          "base_uri": "https://localhost:8080/"
        },
        "id": "GEDmRdm51ydU",
        "outputId": "5da4a9ad-428d-4b23-f645-8d07aa1c6129"
      },
      "source": [
        "print('Shape:', bank_df.shape)"
      ],
      "execution_count": null,
      "outputs": [
        {
          "output_type": "stream",
          "text": [
            "Shape: (5000, 12)\n"
          ],
          "name": "stdout"
        }
      ]
    },
    {
      "cell_type": "code",
      "metadata": {
        "colab": {
          "base_uri": "https://localhost:8080/",
          "height": 142
        },
        "id": "9_sUeL-mdRHk",
        "outputId": "01fb2234-8fb1-4fef-ea96-258f0d8212e7"
      },
      "source": [
        "bank_df['Personal Loan'].value_counts().rename_axis('Personal Loan').to_frame('No of customers')"
      ],
      "execution_count": null,
      "outputs": [
        {
          "output_type": "execute_result",
          "data": {
            "text/html": [
              "<div>\n",
              "<style scoped>\n",
              "    .dataframe tbody tr th:only-of-type {\n",
              "        vertical-align: middle;\n",
              "    }\n",
              "\n",
              "    .dataframe tbody tr th {\n",
              "        vertical-align: top;\n",
              "    }\n",
              "\n",
              "    .dataframe thead th {\n",
              "        text-align: right;\n",
              "    }\n",
              "</style>\n",
              "<table border=\"1\" class=\"dataframe\">\n",
              "  <thead>\n",
              "    <tr style=\"text-align: right;\">\n",
              "      <th></th>\n",
              "      <th>No of customers</th>\n",
              "    </tr>\n",
              "    <tr>\n",
              "      <th>Personal Loan</th>\n",
              "      <th></th>\n",
              "    </tr>\n",
              "  </thead>\n",
              "  <tbody>\n",
              "    <tr>\n",
              "      <th>0</th>\n",
              "      <td>4520</td>\n",
              "    </tr>\n",
              "    <tr>\n",
              "      <th>1</th>\n",
              "      <td>480</td>\n",
              "    </tr>\n",
              "  </tbody>\n",
              "</table>\n",
              "</div>"
            ],
            "text/plain": [
              "               No of customers\n",
              "Personal Loan                 \n",
              "0                         4520\n",
              "1                          480"
            ]
          },
          "metadata": {},
          "execution_count": 5
        }
      ]
    },
    {
      "cell_type": "code",
      "metadata": {
        "colab": {
          "base_uri": "https://localhost:8080/",
          "height": 296
        },
        "id": "uH9IJVKcRRBh",
        "outputId": "d70e4e1e-fab3-42e4-cf76-e051bffe4fc0"
      },
      "source": [
        "sns.countplot(bank_df['Personal Loan'])"
      ],
      "execution_count": null,
      "outputs": [
        {
          "output_type": "execute_result",
          "data": {
            "text/plain": [
              "<matplotlib.axes._subplots.AxesSubplot at 0x7f78b1698dd0>"
            ]
          },
          "metadata": {},
          "execution_count": 6
        },
        {
          "output_type": "display_data",
          "data": {
            "image/png": "[encoded data removed]",
            "text/plain": [
              "<Figure size 432x288 with 1 Axes>"
            ]
          },
          "metadata": {
            "needs_background": "light"
          }
        }
      ]
    },
    {
      "cell_type": "markdown",
      "metadata": {
        "id": "vq1pDYZ1J_aj"
      },
      "source": [
        "\n",
        "\n",
        "*   90.4% of the total customers take personal loan\n",
        "*   9.6% of the total customers do not take personal loan\n",
        "*   So, the dataset is skewed and we need to deal with this imbalanced dataset\n",
        "\n"
      ]
    },
    {
      "cell_type": "markdown",
      "metadata": {
        "id": "Ez4BJw3Rtlvq"
      },
      "source": [
        "## Split dataset into train & test"
      ]
    },
    {
      "cell_type": "code",
      "metadata": {
        "id": "EejVTKSwtlvr"
      },
      "source": [
        "feature = bank_df.copy().drop('Personal Loan', axis=1)\n",
        "target = bank_df['Personal Loan']"
      ],
      "execution_count": null,
      "outputs": []
    },
    {
      "cell_type": "code",
      "metadata": {
        "id": "r78N7Qgqtlvs"
      },
      "source": [
        "# Split the data into trainx, testx, trainy, testy with test_size = 0.20 using sklearn\n",
        "x_train, x_test, y_train, y_test = train_test_split(feature, target, stratify=target, random_state=5, test_size=0.20)"
      ],
      "execution_count": null,
      "outputs": []
    },
    {
      "cell_type": "code",
      "metadata": {
        "colab": {
          "base_uri": "https://localhost:8080/"
        },
        "id": "PChSsQt2tlvs",
        "outputId": "e8f4f30c-c705-4f17-f470-7ba84199cde7"
      },
      "source": [
        "# Print the shape of x_train, x_test, y_train, y_test\n",
        "print('Shape of x_train :', x_train.shape)\n",
        "print('Shape of x_test  :', x_test.shape)\n",
        "print('Shape of y_train :', y_train.shape)\n",
        "print('Shape of y_test  :', y_test.shape)"
      ],
      "execution_count": null,
      "outputs": [
        {
          "output_type": "stream",
          "text": [
            "Shape of x_train : (4000, 11)\n",
            "Shape of x_test  : (1000, 11)\n",
            "Shape of y_train : (4000,)\n",
            "Shape of y_test  : (1000,)\n"
          ],
          "name": "stdout"
        }
      ]
    },
    {
      "cell_type": "code",
      "metadata": {
        "colab": {
          "base_uri": "https://localhost:8080/",
          "height": 296
        },
        "id": "H9MjQIA3fglU",
        "outputId": "b9dd34fc-d981-4435-ce25-360ff122dc7b"
      },
      "source": [
        "sns.countplot(y_train)"
      ],
      "execution_count": null,
      "outputs": [
        {
          "output_type": "execute_result",
          "data": {
            "text/plain": [
              "<matplotlib.axes._subplots.AxesSubplot at 0x7f78b09a3e50>"
            ]
          },
          "metadata": {},
          "execution_count": 10
        },
        {
          "output_type": "display_data",
          "data": {
            "image/png": "[encoded data removed]",
            "text/plain": [
              "<Figure size 432x288 with 1 Axes>"
            ]
          },
          "metadata": {
            "needs_background": "light"
          }
        }
      ]
    },
    {
      "cell_type": "markdown",
      "metadata": {
        "id": "Z9kj2Uy2bRRY"
      },
      "source": [
        "## Preprocessing the dataset"
      ]
    },
    {
      "cell_type": "markdown",
      "metadata": {
        "id": "1JPX-d2ulNJ9"
      },
      "source": [
        "*   We can balance the dataset either by Up sampling the minority class or Down sampling the majority class. But as the dataset is too small, Down sampling the majority class will not help, so we will Up sample the minority Class.\n",
        "\n",
        "*   If up sampling is done before splitting the dataset into a train and test set, then it could end up with the same observation in both datasets.\n",
        "\n",
        "*   As a result, a machine learning model will be able to perfectly predict the value for those observations when predicting on the test set, hence inflating the accuracy and recall.\n",
        "\n",
        "*   So, up sampling should be done only on the train set, after splitting the dataset into train and test."
      ]
    },
    {
      "cell_type": "code",
      "metadata": {
        "id": "ueDsp0rvbOTl"
      },
      "source": [
        "# Balance the dataset by oversampling technique\n",
        "smote = SMOTE(random_state = 10)\n",
        "x_train, y_train = smote.fit_sample(x_train, y_train)"
      ],
      "execution_count": null,
      "outputs": []
    },
    {
      "cell_type": "code",
      "metadata": {
        "id": "g7w_0qNgbuiL"
      },
      "source": [
        "# Scale data to obtain zero mean and unit variance\n",
        "scaler = StandardScaler() \n",
        "x_train = scaler.fit_transform(x_train)  \n",
        "x_test = scaler.transform(x_test)"
      ],
      "execution_count": null,
      "outputs": []
    },
    {
      "cell_type": "code",
      "metadata": {
        "id": "M84m2g7Zbve8",
        "colab": {
          "base_uri": "https://localhost:8080/"
        },
        "outputId": "1c1bc4e2-f2d9-4fee-96b5-31cdf1b9ee80"
      },
      "source": [
        "# Print the shape of x_train, x_test, y_train, y_test after oversampling\n",
        "print('Shape of x_train :', x_train.shape)\n",
        "print('Shape of x_test  :', x_test.shape)\n",
        "print('Shape of y_train :', y_train.shape)\n",
        "print('Shape of y_test  :', y_test.shape)"
      ],
      "execution_count": null,
      "outputs": [
        {
          "output_type": "stream",
          "text": [
            "Shape of x_train : (7232, 11)\n",
            "Shape of x_test  : (1000, 11)\n",
            "Shape of y_train : (7232,)\n",
            "Shape of y_test  : (1000,)\n"
          ],
          "name": "stdout"
        }
      ]
    },
    {
      "cell_type": "code",
      "metadata": {
        "id": "7R5VxR3RfSTW",
        "colab": {
          "base_uri": "https://localhost:8080/",
          "height": 282
        },
        "outputId": "48b3ab52-72a5-4200-f7a7-62dc59fa6392"
      },
      "source": [
        "sns.countplot(y_train)"
      ],
      "execution_count": null,
      "outputs": [
        {
          "output_type": "execute_result",
          "data": {
            "text/plain": [
              "<matplotlib.axes._subplots.AxesSubplot at 0x7f78b04d81d0>"
            ]
          },
          "metadata": {},
          "execution_count": 14
        },
        {
          "output_type": "display_data",
          "data": {
            "image/png": "[encoded data removed]",
            "text/plain": [
              "<Figure size 432x288 with 1 Axes>"
            ]
          },
          "metadata": {
            "needs_background": "light"
          }
        }
      ]
    },
    {
      "cell_type": "markdown",
      "metadata": {
        "id": "HsK1sY3_rmXU"
      },
      "source": [
        "## Naive Bayes Classifier"
      ]
    },
    {
      "cell_type": "code",
      "metadata": {
        "id": "9Pq9fQ8HrpAm"
      },
      "source": [
        "# Create Naive Bayes object\n",
        "naive_bayes = GaussianNB()"
      ],
      "execution_count": null,
      "outputs": []
    },
    {
      "cell_type": "code",
      "metadata": {
        "id": "yHBpaKy6Rjyv",
        "colab": {
          "base_uri": "https://localhost:8080/"
        },
        "outputId": "46b3daac-42ec-4adb-e84a-d4af5bda30f0"
      },
      "source": [
        "t = time()\n",
        "# Train the model\n",
        "naive_bayes.fit(x_train, y_train)\n",
        "# Time is rounded to 3 decimal in seconds\n",
        "print(\"Training time:\", round(time()-t, 3), \"s\")"
      ],
      "execution_count": null,
      "outputs": [
        {
          "output_type": "stream",
          "text": [
            "Training time: 0.005 s\n"
          ],
          "name": "stdout"
        }
      ]
    },
    {
      "cell_type": "code",
      "metadata": {
        "id": "7jUWMxLjRhO0"
      },
      "source": [
        "# Predict train data set\n",
        "pred_train = naive_bayes.predict(x_train)\n",
        "# Predict test data set\n",
        "pred_test = naive_bayes.predict(x_test)"
      ],
      "execution_count": null,
      "outputs": []
    },
    {
      "cell_type": "markdown",
      "metadata": {
        "id": "cJch1SR7r0u5"
      },
      "source": [
        "#### Performance of our model"
      ]
    },
    {
      "cell_type": "code",
      "metadata": {
        "id": "b_Th2BOZUZAE",
        "colab": {
          "base_uri": "https://localhost:8080/"
        },
        "outputId": "0738450a-f39d-4da7-d8e7-a91bdc011bcf"
      },
      "source": [
        "print(\"Accuracy on train is:\", accuracy_score(y_train, pred_train))\n",
        "print(\"Accuracy on test is:\", accuracy_score(y_test, pred_test))"
      ],
      "execution_count": null,
      "outputs": [
        {
          "output_type": "stream",
          "text": [
            "Accuracy on train is: 0.8636615044247787\n",
            "Accuracy on test is: 0.885\n"
          ],
          "name": "stdout"
        }
      ]
    },
    {
      "cell_type": "code",
      "metadata": {
        "id": "YHBHkigjrzp_",
        "colab": {
          "base_uri": "https://localhost:8080/"
        },
        "outputId": "8f9db38b-f712-40c3-9d97-6b7864ee09bc"
      },
      "source": [
        "# Checking performance of our model with classification report\n",
        "print(classification_report(y_test, pred_test))"
      ],
      "execution_count": null,
      "outputs": [
        {
          "output_type": "stream",
          "text": [
            "              precision    recall  f1-score   support\n",
            "\n",
            "           0       0.98      0.89      0.93       904\n",
            "           1       0.45      0.80      0.57        96\n",
            "\n",
            "    accuracy                           0.89      1000\n",
            "   macro avg       0.71      0.85      0.75      1000\n",
            "weighted avg       0.93      0.89      0.90      1000\n",
            "\n"
          ],
          "name": "stdout"
        }
      ]
    },
    {
      "cell_type": "code",
      "metadata": {
        "id": "bIy5PQQjg89Z",
        "colab": {
          "base_uri": "https://localhost:8080/"
        },
        "outputId": "1f235971-a1e9-4a19-b55a-6d12164a3576"
      },
      "source": [
        "# Checking performance of our model with ROC Score\n",
        "print('ROC Score:', roc_auc_score(y_test, pred_test))"
      ],
      "execution_count": null,
      "outputs": [
        {
          "output_type": "stream",
          "text": [
            "ROC Score: 0.8479443215339234\n"
          ],
          "name": "stdout"
        }
      ]
    },
    {
      "cell_type": "code",
      "metadata": {
        "id": "6l87cav7TqRE",
        "colab": {
          "base_uri": "https://localhost:8080/"
        },
        "outputId": "565b4bad-a884-4b7c-9169-171d0448acdd"
      },
      "source": [
        "# list the default parameters of the model\n",
        "naive_bayes.get_params()"
      ],
      "execution_count": null,
      "outputs": [
        {
          "output_type": "execute_result",
          "data": {
            "text/plain": [
              "{'priors': None, 'var_smoothing': 1e-09}"
            ]
          },
          "metadata": {},
          "execution_count": 21
        }
      ]
    },
    {
      "cell_type": "markdown",
      "metadata": {
        "id": "eGjWGN-pUe0S"
      },
      "source": [
        "## Hyper Parameter Tuning"
      ]
    },
    {
      "cell_type": "code",
      "metadata": {
        "id": "cnmxnxhdT9O5"
      },
      "source": [
        "# List hyper parameters that we wish to tune\n",
        "# Var_smoothing (Variance smoothing) parameter specifies the portion of the largest variance of all features to be added to variances for stability of calculation\n",
        "# np.logspace returns numbers spaced evenly on a log scale, starts from 0, ends at -9, and generates 100 samples\n",
        "params = {'var_smoothing': [1e-09, 1e-10, np.logspace(0,-9, num=100)]}\n",
        "# Use grid search\n",
        "grid = GridSearchCV(naive_bayes, verbose=1, param_grid=params, scoring='accuracy', cv=10, n_jobs=-1)"
      ],
      "execution_count": null,
      "outputs": []
    },
    {
      "cell_type": "code",
      "metadata": {
        "id": "bdw7SUg7UPR8",
        "colab": {
          "base_uri": "https://localhost:8080/"
        },
        "outputId": "052f52ef-cdc8-4ead-d8c1-da7adaa7891f"
      },
      "source": [
        "# Train the model\n",
        "grid.fit(x_train, y_train)\n",
        "print()"
      ],
      "execution_count": null,
      "outputs": [
        {
          "output_type": "stream",
          "text": [
            "Fitting 10 folds for each of 3 candidates, totalling 30 fits\n"
          ],
          "name": "stdout"
        },
        {
          "output_type": "stream",
          "text": [
            "[Parallel(n_jobs=-1)]: Using backend LokyBackend with 2 concurrent workers.\n"
          ],
          "name": "stderr"
        },
        {
          "output_type": "stream",
          "text": [
            "\n"
          ],
          "name": "stdout"
        },
        {
          "output_type": "stream",
          "text": [
            "[Parallel(n_jobs=-1)]: Done  30 out of  30 | elapsed:    0.9s finished\n"
          ],
          "name": "stderr"
        }
      ]
    },
    {
      "cell_type": "code",
      "metadata": {
        "id": "HiBX3MxBRa0l",
        "colab": {
          "base_uri": "https://localhost:8080/"
        },
        "outputId": "56931b65-1c83-43dc-fce1-89e8a181c80a"
      },
      "source": [
        "print('Best Score:', grid.best_score_)\n",
        "print('Best Parameters:', grid.best_params_)"
      ],
      "execution_count": null,
      "outputs": [
        {
          "output_type": "stream",
          "text": [
            "Best Score: 0.8626930453986231\n",
            "Best Parameters: {'var_smoothing': 1e-09}\n"
          ],
          "name": "stdout"
        }
      ]
    },
    {
      "cell_type": "code",
      "metadata": {
        "id": "3aoxnxxuU_4B",
        "colab": {
          "base_uri": "https://localhost:8080/"
        },
        "outputId": "8be07da3-4a5f-435f-826e-0fd81f2e94af"
      },
      "source": [
        "best_naive_bayes = grid.best_estimator_\n",
        "# print best hyper parameters\n",
        "print(best_naive_bayes)"
      ],
      "execution_count": null,
      "outputs": [
        {
          "output_type": "stream",
          "text": [
            "GaussianNB(priors=None, var_smoothing=1e-09)\n"
          ],
          "name": "stdout"
        }
      ]
    },
    {
      "cell_type": "code",
      "metadata": {
        "id": "D3uG8fnrRYsH",
        "colab": {
          "base_uri": "https://localhost:8080/"
        },
        "outputId": "69f56faa-23b4-41ef-dd03-8e3b2432f0e4"
      },
      "source": [
        "t = time()\n",
        "# Train the model\n",
        "best_naive_bayes.fit(x_train, y_train)\n",
        "# Time is rounded to 3 decimal in seconds\n",
        "print(\"Training time:\", round(time()-t, 3), \"s\")"
      ],
      "execution_count": null,
      "outputs": [
        {
          "output_type": "stream",
          "text": [
            "Training time: 0.005 s\n"
          ],
          "name": "stdout"
        }
      ]
    },
    {
      "cell_type": "code",
      "metadata": {
        "id": "uMh4onAIUZfI"
      },
      "source": [
        "# Predict train data set\n",
        "pred_train = best_naive_bayes.predict(x_train)\n",
        "# Predict test data set\n",
        "pred_test = best_naive_bayes.predict(x_test)"
      ],
      "execution_count": null,
      "outputs": []
    },
    {
      "cell_type": "code",
      "metadata": {
        "id": "-Qy3HpCsUle4",
        "colab": {
          "base_uri": "https://localhost:8080/"
        },
        "outputId": "414820b4-5dd9-4835-ce1e-a7cc4d693b98"
      },
      "source": [
        "print(\"Accuracy on train is:\", accuracy_score(y_train, pred_train))\n",
        "print(\"Accuracy on test is:\", accuracy_score(y_test, pred_test))"
      ],
      "execution_count": null,
      "outputs": [
        {
          "output_type": "stream",
          "text": [
            "Accuracy on train is: 0.8636615044247787\n",
            "Accuracy on test is: 0.885\n"
          ],
          "name": "stdout"
        }
      ]
    },
    {
      "cell_type": "markdown",
      "metadata": {
        "id": "_2SACbUIOJLl"
      },
      "source": [
        "#### Confusion matrix for Train data"
      ]
    },
    {
      "cell_type": "code",
      "metadata": {
        "id": "0OvussihNblW",
        "colab": {
          "base_uri": "https://localhost:8080/"
        },
        "outputId": "fd95712e-db5e-469f-d5ab-082e4b9afac4"
      },
      "source": [
        "# Print confusion matrix for train data\n",
        "print(confusion_matrix(y_train, pred_train))"
      ],
      "execution_count": null,
      "outputs": [
        {
          "output_type": "stream",
          "text": [
            "[[3210  406]\n",
            " [ 580 3036]]\n"
          ],
          "name": "stdout"
        }
      ]
    },
    {
      "cell_type": "code",
      "metadata": {
        "id": "xFeE0sHdHo98",
        "colab": {
          "base_uri": "https://localhost:8080/",
          "height": 296
        },
        "outputId": "8d8236b6-dac3-4f4a-8a48-88a806de2558"
      },
      "source": [
        "# Plot confusion matrix for train data\n",
        "ConfusionMatrixDisplay(confusion_matrix=confusion_matrix(y_train, pred_train), display_labels=grid.classes_).plot()"
      ],
      "execution_count": null,
      "outputs": [
        {
          "output_type": "execute_result",
          "data": {
            "text/plain": [
              "<sklearn.metrics._plot.confusion_matrix.ConfusionMatrixDisplay at 0x7f78b0a78790>"
            ]
          },
          "metadata": {},
          "execution_count": 30
        },
        {
          "output_type": "display_data",
          "data": {
            "image/png": "[encoded data removed]",
            "text/plain": [
              "<Figure size 432x288 with 2 Axes>"
            ]
          },
          "metadata": {
            "needs_background": "light"
          }
        }
      ]
    },
    {
      "cell_type": "markdown",
      "metadata": {
        "id": "5Sh2SqG2ONLb"
      },
      "source": [
        "#### Confusion matrix for Test data"
      ]
    },
    {
      "cell_type": "code",
      "metadata": {
        "id": "MPzLsvsCGvY5",
        "colab": {
          "base_uri": "https://localhost:8080/"
        },
        "outputId": "6527628b-d4ea-4e58-b7a9-6a0aa5da6838"
      },
      "source": [
        "# Print confusion matrix for test data\n",
        "print(confusion_matrix(y_test, pred_test))"
      ],
      "execution_count": null,
      "outputs": [
        {
          "output_type": "stream",
          "text": [
            "[[808  96]\n",
            " [ 19  77]]\n"
          ],
          "name": "stdout"
        }
      ]
    },
    {
      "cell_type": "code",
      "metadata": {
        "id": "9h_vd3gWNrls",
        "colab": {
          "base_uri": "https://localhost:8080/",
          "height": 298
        },
        "outputId": "856b84e1-917e-4347-a584-94dbdff0c336"
      },
      "source": [
        "# Plot confusion matrix for test data\n",
        "ConfusionMatrixDisplay(confusion_matrix=confusion_matrix(y_test, pred_test), display_labels=grid.classes_).plot()"
      ],
      "execution_count": null,
      "outputs": [
        {
          "output_type": "execute_result",
          "data": {
            "text/plain": [
              "<sklearn.metrics._plot.confusion_matrix.ConfusionMatrixDisplay at 0x7f78b0351310>"
            ]
          },
          "metadata": {},
          "execution_count": 32
        },
        {
          "output_type": "display_data",
          "data": {
            "image/png": "[encoded data removed]",
            "text/plain": [
              "<Figure size 432x288 with 2 Axes>"
            ]
          },
          "metadata": {
            "needs_background": "light"
          }
        }
      ]
    },
    {
      "cell_type": "markdown",
      "metadata": {
        "id": "yWgitzU0ORmr"
      },
      "source": [
        "#### Performance of our model"
      ]
    },
    {
      "cell_type": "code",
      "metadata": {
        "id": "JM77ZkQmBglX",
        "colab": {
          "base_uri": "https://localhost:8080/"
        },
        "outputId": "9feb974b-dce4-46ca-8046-31a392be5d3c"
      },
      "source": [
        "# Checking performance of our model with classification report\n",
        "print(classification_report(y_test, pred_test))"
      ],
      "execution_count": null,
      "outputs": [
        {
          "output_type": "stream",
          "text": [
            "              precision    recall  f1-score   support\n",
            "\n",
            "           0       0.98      0.89      0.93       904\n",
            "           1       0.45      0.80      0.57        96\n",
            "\n",
            "    accuracy                           0.89      1000\n",
            "   macro avg       0.71      0.85      0.75      1000\n",
            "weighted avg       0.93      0.89      0.90      1000\n",
            "\n"
          ],
          "name": "stdout"
        }
      ]
    },
    {
      "cell_type": "code",
      "metadata": {
        "id": "lqBQy4J3R37p",
        "colab": {
          "base_uri": "https://localhost:8080/"
        },
        "outputId": "954edef6-2356-4bd3-8445-8a3475e3bed9"
      },
      "source": [
        "# Checking performance of our model with ROC Score\n",
        "print('ROC Score:', roc_auc_score(y_test, pred_test))"
      ],
      "execution_count": null,
      "outputs": [
        {
          "output_type": "stream",
          "text": [
            "ROC Score: 0.8479443215339234\n"
          ],
          "name": "stdout"
        }
      ]
    },
    {
      "cell_type": "code",
      "metadata": {
        "id": "D8wL-n6Zbdsz",
        "colab": {
          "base_uri": "https://localhost:8080/",
          "height": 296
        },
        "outputId": "0013bbcf-d069-42c2-ed42-b0bf43a7fadf"
      },
      "source": [
        "# Plot ROC Curve\n",
        "plot_roc_curve(best_naive_bayes, x_test, y_test)"
      ],
      "execution_count": null,
      "outputs": [
        {
          "output_type": "execute_result",
          "data": {
            "text/plain": [
              "<sklearn.metrics._plot.roc_curve.RocCurveDisplay at 0x7f78b02d9150>"
            ]
          },
          "metadata": {},
          "execution_count": 35
        },
        {
          "output_type": "display_data",
          "data": {
            "image/png": "[encoded data removed]",
            "text/plain": [
              "<Figure size 432x288 with 1 Axes>"
            ]
          },
          "metadata": {
            "needs_background": "light"
          }
        }
      ]
    },
    {
      "cell_type": "markdown",
      "metadata": {
        "id": "R9_z9BNAJo-J"
      },
      "source": [
        "## Overall Analysis"
      ]
    },
    {
      "cell_type": "markdown",
      "metadata": {
        "id": "kC96zaewJtNL"
      },
      "source": [
        "\n",
        "\n",
        "\n",
        "*   This is an imbalanced dataset. So, I have upsampled the train data and preprocessed the data using StandardScaler to obtain 0 mean and unit variance. Doing this improved the accuracy and ROC score of the model to a great extent.\n",
        "\n",
        "*   Also, I have used stratify parameter to preserve the proportion of target as in original dataset, in the train and test datasets as well.\n",
        "\n",
        "*   As per the results, accuracy is 0.89. But, it can be observed that f1-score is 0.51 for class 1, which shows that our dataset is skewed. So, instead of considering accuracy as our metric, we need to consider ROC_AUC score for highly skewed datasets.\n",
        "\n",
        "*   Also, hyper parameter tuning showed no improvement in the model performance. So default parameters give the best performance for this model.\n",
        "\n"
      ]
    }
  ]
}